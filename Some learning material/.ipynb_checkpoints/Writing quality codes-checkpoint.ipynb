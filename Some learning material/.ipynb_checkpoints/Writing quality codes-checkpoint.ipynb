{
 "cells": [
  {
   "cell_type": "markdown",
   "metadata": {},
   "source": [
    "### Modlarity:\n",
    "Code is divided into short, readable, maintainable , and transferable pieces.\n",
    "Each module tries to solve one small basic though. We use packages, classes, and methods."
   ]
  },
  {
   "cell_type": "markdown",
   "metadata": {},
   "source": [
    "### Accessing module documentation"
   ]
  },
  {
   "cell_type": "code",
   "execution_count": 2,
   "metadata": {},
   "outputs": [],
   "source": [
    "import pytest"
   ]
  },
  {
   "cell_type": "code",
   "execution_count": 4,
   "metadata": {},
   "outputs": [
    {
     "name": "stdout",
     "output_type": "stream",
     "text": [
      "Help on function fail in module _pytest.outcomes:\n",
      "\n",
      "fail(msg='', pytrace=True)\n",
      "    explicitly fail an currently-executing test with the given Message.\n",
      "    \n",
      "    :arg pytrace: if false the msg represents the full failure information\n",
      "                  and no python traceback will be reported.\n",
      "\n"
     ]
    }
   ],
   "source": [
    "help(pytest.fail) # accessing the docstring of the module"
   ]
  },
  {
   "cell_type": "code",
   "execution_count": 8,
   "metadata": {},
   "outputs": [
    {
     "name": "stdout",
     "output_type": "stream",
     "text": [
      "Help on class permutations in module itertools:\n",
      "\n",
      "class permutations(builtins.object)\n",
      " |  permutations(iterable[, r]) --> permutations object\n",
      " |  \n",
      " |  Return successive r-length permutations of elements in the iterable.\n",
      " |  \n",
      " |  permutations(range(3), 2) --> (0,1), (0,2), (1,0), (1,2), (2,0), (2,1)\n",
      " |  \n",
      " |  Methods defined here:\n",
      " |  \n",
      " |  __getattribute__(self, name, /)\n",
      " |      Return getattr(self, name).\n",
      " |  \n",
      " |  __iter__(self, /)\n",
      " |      Implement iter(self).\n",
      " |  \n",
      " |  __new__(*args, **kwargs) from builtins.type\n",
      " |      Create and return a new object.  See help(type) for accurate signature.\n",
      " |  \n",
      " |  __next__(self, /)\n",
      " |      Implement next(self).\n",
      " |  \n",
      " |  __reduce__(...)\n",
      " |      Return state information for pickling.\n",
      " |  \n",
      " |  __setstate__(...)\n",
      " |      Set state information for unpickling.\n",
      " |  \n",
      " |  __sizeof__(...)\n",
      " |      Returns size in memory, in bytes.\n",
      "\n"
     ]
    }
   ],
   "source": [
    "from itertools import permutations\n",
    "help(permutations)"
   ]
  },
  {
   "cell_type": "markdown",
   "metadata": {},
   "source": [
    "### PEP8 guidelines"
   ]
  },
  {
   "cell_type": "code",
   "execution_count": 11,
   "metadata": {},
   "outputs": [],
   "source": [
    "import pycodestyle # package has a great tools to clean your code into pep8 format"
   ]
  },
  {
   "cell_type": "code",
   "execution_count": 19,
   "metadata": {},
   "outputs": [
    {
     "name": "stdout",
     "output_type": "stream",
     "text": [
      "Overwriting myflunkycode.py\n"
     ]
    }
   ],
   "source": [
    "%%file myflunkycode.py\n",
    "# let's write a not easy to read piece of code\n",
    "thisISaDictionary = {1:'one',\n",
    "    2:'two',\n",
    "                    3:'three'}\n",
    "### this is one comment\n",
    "\n",
    "# and here is an arithmentic operation\n",
    "a=2\n",
    "b=3\n",
    "c=a-b"
   ]
  },
  {
   "cell_type": "code",
   "execution_count": 20,
   "metadata": {},
   "outputs": [
    {
     "name": "stdout",
     "output_type": "stream",
     "text": [
      "myflunkycode.py:2:23: E231 missing whitespace after ':'\n",
      "myflunkycode.py:3:5: E128 continuation line under-indented for visual indent\n",
      "myflunkycode.py:3:6: E231 missing whitespace after ':'\n",
      "myflunkycode.py:4:21: E128 continuation line under-indented for visual indent\n",
      "myflunkycode.py:4:22: E231 missing whitespace after ':'\n",
      "myflunkycode.py:5:1: E266 too many leading '#' for block comment\n",
      "myflunkycode.py:8:2: E225 missing whitespace around operator\n",
      "myflunkycode.py:9:2: E225 missing whitespace around operator\n",
      "myflunkycode.py:10:2: E225 missing whitespace around operator\n",
      "myflunkycode.py:10:6: W292 no newline at end of file\n"
     ]
    }
   ],
   "source": [
    "!pycodestyle myflunkycode.py"
   ]
  },
  {
   "cell_type": "markdown",
   "metadata": {},
   "source": [
    "You can read the error descritption in te following format:\n",
    "\n",
    "``code_name :line_number: column_number:errorcode error description``\n",
    "\n",
    "Now let's clean this piece of code as suggested by pycodestyle."
   ]
  },
  {
   "cell_type": "code",
   "execution_count": 29,
   "metadata": {},
   "outputs": [
    {
     "name": "stdout",
     "output_type": "stream",
     "text": [
      "Overwriting mycleancode.py\n"
     ]
    }
   ],
   "source": [
    "%%file mycleancode.py \n",
    "# this is a python magic function writing the cell content into a file\n",
    "\n",
    "# let's write a not easy to read piece of code\n",
    "thisISaDictionary = {1: 'one', 2: 'two', 3: 'three'}\n",
    "# this is one comment\n",
    "\n",
    "# and here is an arithmentic operation\n",
    "a = 2\n",
    "b = 3\n",
    "c = a - b\n",
    "\n"
   ]
  },
  {
   "cell_type": "code",
   "execution_count": 30,
   "metadata": {},
   "outputs": [],
   "source": [
    "!pycodestyle mycleancode.py"
   ]
  },
  {
   "cell_type": "markdown",
   "metadata": {},
   "source": [
    "So this clean code does not retrun any issue."
   ]
  },
  {
   "cell_type": "markdown",
   "metadata": {},
   "source": [
    "### Readabity"
   ]
  },
  {
   "cell_type": "code",
   "execution_count": 31,
   "metadata": {},
   "outputs": [
    {
     "name": "stdout",
     "output_type": "stream",
     "text": [
      "The Zen of Python, by Tim Peters\n",
      "\n",
      "Beautiful is better than ugly.\n",
      "Explicit is better than implicit.\n",
      "Simple is better than complex.\n",
      "Complex is better than complicated.\n",
      "Flat is better than nested.\n",
      "Sparse is better than dense.\n",
      "Readability counts.\n",
      "Special cases aren't special enough to break the rules.\n",
      "Although practicality beats purity.\n",
      "Errors should never pass silently.\n",
      "Unless explicitly silenced.\n",
      "In the face of ambiguity, refuse the temptation to guess.\n",
      "There should be one-- and preferably only one --obvious way to do it.\n",
      "Although that way may not be obvious at first unless you're Dutch.\n",
      "Now is better than never.\n",
      "Although never is often better than *right* now.\n",
      "If the implementation is hard to explain, it's a bad idea.\n",
      "If the implementation is easy to explain, it may be a good idea.\n",
      "Namespaces are one honking great idea -- let's do more of those!\n"
     ]
    }
   ],
   "source": [
    "import this"
   ]
  },
  {
   "cell_type": "markdown",
   "metadata": {},
   "source": [
    "### Unit testing\n",
    "- Makes sure code works as it intended.\n",
    "- Makes sure all corner cases are though of and covered.\n",
    "- Makes sure code modifications dont override imprtant parts of code.\n",
    "\n",
    "You can test using ``doctest`` if code has test setup. You need to use ``pytest`` to develop test cases.\n",
    "\n",
    "It is good to have all the cases set up using assert function. Cases like shape, data types, etc."
   ]
  },
  {
   "cell_type": "code",
   "execution_count": null,
   "metadata": {},
   "outputs": [],
   "source": []
  }
 ],
 "metadata": {
  "kernelspec": {
   "display_name": "Python 3",
   "language": "python",
   "name": "python3"
  },
  "language_info": {
   "codemirror_mode": {
    "name": "ipython",
    "version": 3
   },
   "file_extension": ".py",
   "mimetype": "text/x-python",
   "name": "python",
   "nbconvert_exporter": "python",
   "pygments_lexer": "ipython3",
   "version": "3.6.4"
  }
 },
 "nbformat": 4,
 "nbformat_minor": 2
}
