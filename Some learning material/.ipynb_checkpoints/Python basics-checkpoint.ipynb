{
 "cells": [
  {
   "cell_type": "markdown",
   "metadata": {},
   "source": [
    "#### Python calculator\n",
    "Performing basic calculations using python."
   ]
  },
  {
   "cell_type": "code",
   "execution_count": 2,
   "metadata": {},
   "outputs": [
    {
     "name": "stdout",
     "output_type": "stream",
     "text": [
      "4 multiplied by 3 is 12\n",
      "4 added by 3 is 7\n",
      "4 subtract by 3 is 1\n",
      "4 divides by 3 is 1.3333333333333333\n",
      "4 integer divided by 3 is 1\n",
      "4 modulo 3 is 1\n",
      "4 to the power of 3 is 64\n"
     ]
    }
   ],
   "source": [
    "print(\"4 multiplied by 3 is {}\".format(4 * 3))\n",
    "print(\"4 added by 3 is {}\".format(4 + 3))\n",
    "print(\"4 subtract by 3 is {}\".format(4 - 3))\n",
    "print(\"4 divides by 3 is {}\".format(4 / 3))\n",
    "print(\"4 integer divided by 3 is {}\".format(4 // 3))\n",
    "print(\"4 modulo 3 is {}\".format(4 % 3))\n",
    "print(\"4 to the power of 3 is {}\".format(4 ** 3))"
   ]
  },
  {
   "cell_type": "markdown",
   "metadata": {},
   "source": [
    "Performing complex number calculation:"
   ]
  },
  {
   "cell_type": "code",
   "execution_count": 74,
   "metadata": {},
   "outputs": [
    {
     "name": "stdout",
     "output_type": "stream",
     "text": [
      "(1+3j) mutiplied by (2+1j):  (-1+7j)\n",
      "(j) divided by (1+1j):  (0.5+0.5j)\n"
     ]
    }
   ],
   "source": [
    "print(\"(1+3j) mutiplied by (2+1j): \", complex(1,3) * complex(2,1))\n",
    "print(\"(j) divided by (1+1j): \", complex(0,1) / complex(1,1))"
   ]
  },
  {
   "cell_type": "markdown",
   "metadata": {},
   "source": [
    "#### Variables\n",
    "All data types are objects and have methods."
   ]
  },
  {
   "cell_type": "code",
   "execution_count": 7,
   "metadata": {},
   "outputs": [
    {
     "name": "stdout",
     "output_type": "stream",
     "text": [
      "Age is of type: <class 'int'>\n",
      "Height is of type: <class 'float'>\n",
      "Name is of type: <class 'str'>\n",
      "Student is of type: <class 'bool'>\n"
     ]
    }
   ],
   "source": [
    "age = 24\n",
    "height = 1.87\n",
    "name = 'Matthew'\n",
    "student = True\n",
    "print(\"Age is of type: \" + str(type(age)))\n",
    "print(\"Height is of type: \" + str(type(height)))\n",
    "print(\"Name is of type: \" + str(type(name)))\n",
    "print(\"Student is of type: \" + str(type(student)))"
   ]
  },
  {
   "cell_type": "markdown",
   "metadata": {},
   "source": [
    "#### Casting data type"
   ]
  },
  {
   "cell_type": "code",
   "execution_count": 15,
   "metadata": {},
   "outputs": [
    {
     "name": "stdout",
     "output_type": "stream",
     "text": [
      "Double of his height is 3.58\n",
      "Student has name and is older than 20:\n",
      "His age is 24\n"
     ]
    }
   ],
   "source": [
    "height = '1.79'  # defining height as string\n",
    "student_name = 'something' # boolean of a string that is not null is True\n",
    "age = 24\n",
    "print (\"Double of his height is {}\" .format(2 * float(height)))\n",
    "print(\"Student has name and is older than 20:\".format(age > 20 and bool(student_name)))\n",
    "print(\"His age is \" + str(age))"
   ]
  },
  {
   "cell_type": "markdown",
   "metadata": {},
   "source": [
    "#### List\n",
    "Storing many variables."
   ]
  },
  {
   "cell_type": "code",
   "execution_count": 56,
   "metadata": {},
   "outputs": [
    {
     "name": "stdout",
     "output_type": "stream",
     "text": [
      "Age of triplets:  [1, 1, 1]\n",
      "Age of data and granpa are:  [36, 80]\n",
      "ages list data type is :  <class 'list'>\n",
      "sister index in the list:  0\n"
     ]
    }
   ],
   "source": [
    "ages = [12, 25, 36, 80, [1 , 1 , 1]]\n",
    "print(\"Age of triplets: \" ,ages[4])\n",
    "print(\"Age of data and granpa are: \" , ages[2:4])\n",
    "print(\"ages list data type is : \", type(ages))\n",
    "print(\"sister index in the list: \", ages.index(12))"
   ]
  },
  {
   "cell_type": "code",
   "execution_count": 57,
   "metadata": {},
   "outputs": [
    {
     "data": {
      "text/plain": [
       "[12, 25, 36, 80, [1, 1, 1], 110]"
      ]
     },
     "execution_count": 57,
     "metadata": {},
     "output_type": "execute_result"
    }
   ],
   "source": [
    "ages.append(110)  # granpa age if he was alive- adding elements to the list\n",
    "ages"
   ]
  },
  {
   "cell_type": "code",
   "execution_count": 58,
   "metadata": {},
   "outputs": [
    {
     "data": {
      "text/plain": [
       "[12, 25, 36, 81, [2, 2, 2], 110]"
      ]
     },
     "execution_count": 58,
     "metadata": {},
     "output_type": "execute_result"
    }
   ],
   "source": [
    "ages[4] = [2, 2, 2] # triplets have grown one year older modifying list elements\n",
    "ages[ages.index(80)] = 81 # it was also granmas birthday\n",
    "ages"
   ]
  },
  {
   "cell_type": "code",
   "execution_count": 59,
   "metadata": {},
   "outputs": [
    {
     "data": {
      "text/plain": [
       "[12, 25, 36, 81, [2, 2, 2], 110, 20, 31, 32, 8, 9, 12]"
      ]
     },
     "execution_count": 59,
     "metadata": {},
     "output_type": "execute_result"
    }
   ],
   "source": [
    "# adding several items to the list (not efficient)\n",
    "ages.extend([20, 31, 32]) # aunts and uncles are visitng us\n",
    "# you can do the same thing with list1 + list2\n",
    "ages = ages + [8, 9, 12] # they are also bringing their children\n",
    "ages"
   ]
  },
  {
   "cell_type": "code",
   "execution_count": 60,
   "metadata": {},
   "outputs": [
    {
     "data": {
      "text/plain": [
       "[12, 25, 36, 81, 20, 31, 32, 8, 9, 12]"
      ]
     },
     "execution_count": 60,
     "metadata": {},
     "output_type": "execute_result"
    }
   ],
   "source": [
    "# deleting element from the list \n",
    "del(ages[4:6]) # triplets and granpa are gone to the park\n",
    "ages"
   ]
  },
  {
   "cell_type": "code",
   "execution_count": 62,
   "metadata": {},
   "outputs": [
    {
     "name": "stdout",
     "output_type": "stream",
     "text": [
      "[12, 25, 36, 81, 20, 31, 32, 8, 9, 12]\n",
      "[12, 25, 31, 32, 8, 9, 12]\n"
     ]
    }
   ],
   "source": [
    "# if you would like to get a seperate copy of a list that you can \n",
    "# work on independandtly you can use the following\n",
    "ages_list = list(ages)\n",
    "del(ages_list[2:5])\n",
    "print(ages)\n",
    "print(ages_list)"
   ]
  },
  {
   "cell_type": "markdown",
   "metadata": {},
   "source": [
    "#### String methods"
   ]
  },
  {
   "cell_type": "code",
   "execution_count": 106,
   "metadata": {},
   "outputs": [
    {
     "name": "stdout",
     "output_type": "stream",
     "text": [
      "String in lower case is:\tman utd won 1998 cl cup. \n",
      "String in upper case is:\tMAN UTD WON 1998 CL CUP. \n",
      "A list of tokens are:\t ['MAN', 'UTD', 'won', '1998', 'CL', 'cup.']\n",
      "Swapping word cases are:\tman utd WON 1998 cl CUP. \n",
      "Before and after 1998:\t ('MAN UTD won ', '1998', ' CL cup. ')\n",
      "Are all elements numeric:\t False\n",
      "Where first time letter 'n' occured?:\t 10\n",
      "How many time 'n' occured:\t 1\n",
      "Does string end with a period?:\t False\n",
      "Does string stard with an 'M'?:\t True\n",
      "Full name of the team :\tManchester United won 1998 CL cup. \n"
     ]
    }
   ],
   "source": [
    "mystring = \"MAN UTD won 1998 CL cup. \"\n",
    "\n",
    "print(\"String in lower case is:\\t\" + mystring.lower())\n",
    "print(\"String in upper case is:\\t\" + mystring.upper())\n",
    "print(\"A list of tokens are:\\t\" , mystring.split())\n",
    "print(\"Swapping word cases are:\\t\"+ mystring.swapcase())\n",
    "print(\"Before and after 1998:\\t\", mystring.partition('1998'))\n",
    "print(\"Are all elements numeric:\\t\" , mystring.isnumeric())\n",
    "print(\"Where first time letter 'n' occured?:\\t\", mystring.index('n'))\n",
    "print(\"How many time 'n' occured:\\t\", mystring.count('n'))\n",
    "print(\"Does string end with a period?:\\t\", mystring.endswith('.'))\n",
    "print(\"Does string stard with an 'M'?:\\t\", mystring.startswith('M'))\n",
    "print(\"Full name of the team :\\t\" + mystring.replace('MAN UTD', 'Manchester United'))"
   ]
  },
  {
   "cell_type": "markdown",
   "metadata": {},
   "source": [
    "#### Numeric data type methods"
   ]
  },
  {
   "cell_type": "code",
   "execution_count": 133,
   "metadata": {},
   "outputs": [
    {
     "name": "stdout",
     "output_type": "stream",
     "text": [
      "Is 0.33 an integer?\t False.\n",
      "0.33 on base of 16 is:\t 0x1.51eb851eb851fp-2.\n",
      "Number of bits to store 400 is:\t 9.\n",
      "Is 'True' equal 1? True + 5 =\t 6\n"
     ]
    }
   ],
   "source": [
    "boolean  = True\n",
    "real = 0.33\n",
    "integer = 400\n",
    "\n",
    "print(\"Is {} an integer?\\t {}.\".format(real, real.is_integer()))\n",
    "print(\"{} on base of 16 is:\\t {}.\".format(real, real.hex()))\n",
    "print(\"Number of bits to store {} is:\\t {}.\".format(integer, integer.bit_length()))\n",
    "# boolean can be considered int = 1\n",
    "print(\"Is 'True' equal 1? {} + {} =\\t {}\".format(boolean, 5, boolean + 5))      "
   ]
  },
  {
   "cell_type": "markdown",
   "metadata": {},
   "source": [
    "#### List methods"
   ]
  },
  {
   "cell_type": "code",
   "execution_count": 190,
   "metadata": {},
   "outputs": [
    {
     "name": "stdout",
     "output_type": "stream",
     "text": [
      "How many times '1' occured in my_list?\t2\n",
      "New list after insertion is:\t [3.14, 0, 1, 1, 2, 3, 3]\n",
      "My new list after removal is:\t [3.14, 0, 1, 1, 2, 3]\n",
      "Where first 1 occured?\t 2\n",
      "After removing element at index 1:\t [3.14, 1, 1, 2, 3]\n",
      "Reversing the list inplace:\t [3, 2, 1, 1, 3.14]\n",
      "After removing all the elements:\t []\n"
     ]
    }
   ],
   "source": [
    "my_list = [0, 1, 1, 2, 3, 3]\n",
    "\n",
    "print(\"How many times '1' occured in my_list?\\t{}\".format(my_list.count(1)))\n",
    "my_list.insert(0, 3.14) # it is done inplace\n",
    "print(\"New list after insertion is:\\t\", my_list)\n",
    "my_list.remove(3) # remove first 3\n",
    "print(\"My new list after removal is:\\t\", my_list)\n",
    "print(\"Where first 1 occured?\\t\", my_list.index(1))\n",
    "my_list.pop(1) # removing element at index 1\n",
    "print(\"After removing element at index 1:\\t\", my_list)\n",
    "my_list.reverse()\n",
    "print(\"Reversing the list inplace:\\t\", my_list)\n",
    "my_list.clear()\n",
    "print(\"After removing all the elements:\\t\", my_list)"
   ]
  },
  {
   "cell_type": "markdown",
   "metadata": {},
   "source": [
    "#### List functions"
   ]
  },
  {
   "cell_type": "code",
   "execution_count": 173,
   "metadata": {},
   "outputs": [
    {
     "name": "stdout",
     "output_type": "stream",
     "text": [
      "Is there at leas one non-null element?\t True\n",
      "Are all elements non null?\t False\n",
      "Return the enumerat object:\t (0, 1) (1, 2) (2, 0.0) (3, 3)\n",
      "Elements smaller than 2:\t 1 0.0\n",
      "Lazy iterator of the list:\t <list_iterator object at 0x0000027A6A0DA470>\n",
      "Sum of all elements of the list:\t 6.0\n",
      "Reversing the list:\t 3 0.0 2 1\n",
      "Aother way of reversing:\t [3, 0.0, 2, 1]\n"
     ]
    }
   ],
   "source": [
    "my_new_list = [1, 2, 0.0, 3]\n",
    "print(\"Is there at leas one non-null element?\\t\", any(my_new_list))\n",
    "print(\"Are all elements non null?\\t\", all(my_new_list)) # there is one zero => null\n",
    "print(\"Return the enumerat object:\\t\", *enumerate(my_new_list))\n",
    "print(\"Elements smaller than 2:\\t\",*filter(lambda x : x  < 2, my_new_list))\n",
    "print(\"Lazy iterator of the list:\\t\", iter(my_new_list))\n",
    "print(\"Sum of all elements of the list:\\t\", sum(my_new_list))\n",
    "print(\"Reversing the list:\\t\", *reversed(my_new_list))\n",
    "print(\"Aother way of reversing:\\t\", my_new_list[::-1])"
   ]
  },
  {
   "cell_type": "markdown",
   "metadata": {},
   "source": [
    "#### List map\n",
    "Passes each item of the iterabale to this function. It has a one to one relationship with all the elements. You can use a combination of map and filter to perform any list comprehenssion."
   ]
  },
  {
   "cell_type": "code",
   "execution_count": 168,
   "metadata": {},
   "outputs": [
    {
     "name": "stdout",
     "output_type": "stream",
     "text": [
      "Float version of the list:\t 12.0 4.0 5.0 6.0 3.0 34.0 45.0\n",
      "All number squared :\t  144 16 25 36 9 1156 2025\n"
     ]
    }
   ],
   "source": [
    "list_for_map = [12, 4, 5, 6, 3, 34, 45]\n",
    "print(\"Float version of the list:\\t\", *map(float, list_for_map))\n",
    "print(\"All number squared :\\t \", *map(lambda x : x* x, list_for_map))"
   ]
  },
  {
   "cell_type": "markdown",
   "metadata": {},
   "source": [
    "#### List sorted"
   ]
  },
  {
   "cell_type": "code",
   "execution_count": 189,
   "metadata": {},
   "outputs": [
    {
     "name": "stdout",
     "output_type": "stream",
     "text": [
      "sorting list 1 ascedingly [1, 1, 1.0, 2.6, 3, 3, 4]\n",
      "sorting list 1 descendingly [4, 3, 3, 2.6, 1, 1, 1.0]\n",
      "Sorting list 2 ['aaaaaz', 'abca', 'az', 'ccccy', 'cf', 'zabb', 'zbab']\n",
      "sorting based on length ['az', 'cf', 'abca', 'zbab', 'zabb', 'ccccy', 'aaaaaz']\n",
      "sort based on last letter ['abca', 'zbab', 'zabb', 'cf', 'ccccy', 'az', 'aaaaaz']\n"
     ]
    }
   ],
   "source": [
    "list1 = [1, 3, 4,1, 1.0, 3, 2.6]\n",
    "list2 = ['az', 'abca', 'cf', 'ccccy', 'aaaaaz', 'zbab', 'zabb']\n",
    "print('sorting list 1 ascedingly', sorted(list1))\n",
    "print('sorting list 1 descendingly', sorted(list1, reverse=True))\n",
    "print('Sorting list 2', sorted(list2))\n",
    "print('sorting based on length', sorted(list2, key=len))\n",
    "print('sort based on last letter', sorted(list2, key=lambda x:(x[-1],x[-2])))"
   ]
  },
  {
   "cell_type": "markdown",
   "metadata": {},
   "source": [
    "#### List zip"
   ]
  },
  {
   "cell_type": "code",
   "execution_count": null,
   "metadata": {},
   "outputs": [],
   "source": []
  },
  {
   "cell_type": "markdown",
   "metadata": {},
   "source": [
    "#### Dictionary\n",
    "\n"
   ]
  },
  {
   "cell_type": "code",
   "execution_count": 50,
   "metadata": {},
   "outputs": [],
   "source": [
    "# building a dictionary\n",
    "weights = {'father':170, 'mother':150, 'sister':160, 'daughter':10, 'me':180, 'wife':140}"
   ]
  },
  {
   "cell_type": "code",
   "execution_count": 51,
   "metadata": {},
   "outputs": [
    {
     "data": {
      "text/plain": [
       "{1: 'one', 2: 'two', 3: 'three'}"
      ]
     },
     "execution_count": 51,
     "metadata": {},
     "output_type": "execute_result"
    }
   ],
   "source": [
    "# how to make a dict from two corresponding lists\n",
    "num = [1, 2, 3]\n",
    "alpha = ['one', 'two', 'three']\n",
    "num_alpha = dict(zip(a,b))\n",
    "num_alpha"
   ]
  },
  {
   "cell_type": "code",
   "execution_count": 52,
   "metadata": {},
   "outputs": [
    {
     "name": "stdout",
     "output_type": "stream",
     "text": [
      "Keys of num_alpha dictionary are:\t 1 2 3\n",
      "The values of num_alpha dictionary are:\t one two three\n"
     ]
    }
   ],
   "source": [
    "# accessing keys and values\n",
    "print('Keys of num_alpha dictionary are:\\t', *num_alpha.keys())\n",
    "print(\"The values of num_alpha dictionary are:\\t\", *num_alpha.values())"
   ]
  },
  {
   "cell_type": "code",
   "execution_count": 53,
   "metadata": {},
   "outputs": [
    {
     "name": "stdout",
     "output_type": "stream",
     "text": [
      "1 Uno\n",
      "2 two\n",
      "3 three\n",
      "4 ['four', 'char', 'arba-a']\n",
      "5 five\n"
     ]
    }
   ],
   "source": [
    "# modifying dictioaries\n",
    "num_alpha[1] = 'Uno' # modifying values for a key that already exists\n",
    "num_alpha[4] = [] # a list as avalue\n",
    "num_alpha[4].append('four') # updaing the value of the list\n",
    "num_alpha[4].append('char')\n",
    "num_alpha[4].append('arba-a')\n",
    "num_alpha[5] = 'five' # a new entry\n",
    "for k, v in num_alpha.items():\n",
    "    print(k,v)"
   ]
  },
  {
   "cell_type": "code",
   "execution_count": 54,
   "metadata": {},
   "outputs": [
    {
     "data": {
      "text/plain": [
       "True"
      ]
     },
     "execution_count": 54,
     "metadata": {},
     "output_type": "execute_result"
    }
   ],
   "source": [
    "1 in num_alpha # you dont need to use dict.keys() to check if a key exists in a dictinary"
   ]
  },
  {
   "cell_type": "code",
   "execution_count": 55,
   "metadata": {},
   "outputs": [
    {
     "name": "stdout",
     "output_type": "stream",
     "text": [
      "{1: 'Uno', 2: 'two', 4: ['four', 'char', 'arba-a'], 5: 'five'}\n"
     ]
    }
   ],
   "source": [
    "# removing entries from a dict\n",
    "del(num_alpha[3])\n",
    "print(num_alpha)"
   ]
  },
  {
   "cell_type": "code",
   "execution_count": 49,
   "metadata": {},
   "outputs": [
    {
     "name": "stdout",
     "output_type": "stream",
     "text": [
      "six\n"
     ]
    }
   ],
   "source": [
    "# using dictionary to store other dictionaries\n",
    "# this is a common way of storing data in data bases\n",
    "num_alpha[6] = {'en':'six', 'fa':'shes','ar':'settat', 'tu':'alte'}\n",
    "print(num_alpha[6]['en'])"
   ]
  },
  {
   "cell_type": "markdown",
   "metadata": {},
   "source": [
    "#### numpy basics"
   ]
  },
  {
   "cell_type": "code",
   "execution_count": 194,
   "metadata": {},
   "outputs": [],
   "source": [
    "import numpy as np"
   ]
  },
  {
   "cell_type": "code",
   "execution_count": 198,
   "metadata": {},
   "outputs": [
    {
     "data": {
      "text/plain": [
       "array([0.0625    , 0.22222222, 0.45653762])"
      ]
     },
     "execution_count": 198,
     "metadata": {},
     "output_type": "execute_result"
    }
   ],
   "source": [
    "a = [1, 2, 4]\n",
    "b = [4, 3, 2.96]\n",
    "a = np.array(a)\n",
    "b = np.array(b)\n",
    "a/b**2"
   ]
  },
  {
   "cell_type": "code",
   "execution_count": 218,
   "metadata": {},
   "outputs": [
    {
     "name": "stdout",
     "output_type": "stream",
     "text": [
      "shape of this array is:\t (4, 4)\n",
      "a sample slice of this array is \n",
      " [[0.27839864 0.15518275]\n",
      " [0.74872694 0.02704803]]\n"
     ]
    }
   ],
   "source": [
    "c = np.random.random((4,4))\n",
    "print(\"shape of this array is:\\t\", c.shape)\n",
    "print(\"a sample slice of this array is: \\n\",c[1:3, 2:])"
   ]
  },
  {
   "cell_type": "code",
   "execution_count": 220,
   "metadata": {},
   "outputs": [],
   "source": [
    "weight = np.round(np.random.normal(130, 12,500),1)\n",
    "height = np.round(np.random.normal(5.3, 2, 500), 2)\n",
    "weight_height = np.column_stack((weight, height))"
   ]
  },
  {
   "cell_type": "code",
   "execution_count": 225,
   "metadata": {},
   "outputs": [
    {
     "name": "stdout",
     "output_type": "stream",
     "text": [
      "height mean, median, and standard deviation are 129.59120000000001, 129.45, and 12.277079561524394:\t\n"
     ]
    }
   ],
   "source": [
    "print(\"height mean, median, and standard deviation are {}, {}, and {}:\\t\"\\\n",
    "      .format(np.mean(weight), np.median(weight), np.std(weight)))"
   ]
  },
  {
   "cell_type": "code",
   "execution_count": 228,
   "metadata": {},
   "outputs": [
    {
     "data": {
      "text/plain": [
       "array([[1.        , 0.01124692],\n",
       "       [0.01124692, 1.        ]])"
      ]
     },
     "execution_count": 228,
     "metadata": {},
     "output_type": "execute_result"
    }
   ],
   "source": [
    "# correlation of two numpy array\n",
    "np.corrcoef(weight, height)"
   ]
  },
  {
   "cell_type": "code",
   "execution_count": 232,
   "metadata": {},
   "outputs": [
    {
     "name": "stdout",
     "output_type": "stream",
     "text": [
      "Average height of heavy people is:\t 6.5\n",
      "Average height of light people is:\t 5.1\n"
     ]
    }
   ],
   "source": [
    "# average height of heavy people\n",
    "heavy_height = height[weight>160]\n",
    "light_height = height[weight <110]\n",
    "print(\"Average height of heavy people is:\\t\", round(np.mean(heavy_height),1))\n",
    "print(\"Average height of light people is:\\t\", round(np.mean(light_height),1))"
   ]
  },
  {
   "cell_type": "code",
   "execution_count": null,
   "metadata": {},
   "outputs": [],
   "source": []
  }
 ],
 "metadata": {
  "kernelspec": {
   "display_name": "Python 3",
   "language": "python",
   "name": "python3"
  },
  "language_info": {
   "codemirror_mode": {
    "name": "ipython",
    "version": 3
   },
   "file_extension": ".py",
   "mimetype": "text/x-python",
   "name": "python",
   "nbconvert_exporter": "python",
   "pygments_lexer": "ipython3",
   "version": "3.6.4"
  }
 },
 "nbformat": 4,
 "nbformat_minor": 2
}
