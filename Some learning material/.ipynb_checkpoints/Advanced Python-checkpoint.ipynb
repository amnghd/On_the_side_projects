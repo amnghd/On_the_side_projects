{
 "cells": [
  {
   "cell_type": "markdown",
   "metadata": {},
   "source": [
    "#### wiritng functions in python"
   ]
  },
  {
   "cell_type": "code",
   "execution_count": 13,
   "metadata": {},
   "outputs": [],
   "source": [
    "def squared_power(digit, exp):\n",
    "    '''\n",
    "    This is a docstring. It is written to explain a function.\n",
    "    This function gets two values, digit and exp. \n",
    "    Then it returns two values, digit to the power of exp, and root of \n",
    "    digit based on 1/exp.'''\n",
    "    power = digit ** exp\n",
    "    squared = digit ** (1 / exp) if exp != 0 else 0  # no division by zero\n",
    "    return (power, squared)"
   ]
  },
  {
   "cell_type": "markdown",
   "metadata": {},
   "source": [
    "#### getting help froma function"
   ]
  },
  {
   "cell_type": "code",
   "execution_count": 12,
   "metadata": {},
   "outputs": [
    {
     "name": "stdout",
     "output_type": "stream",
     "text": [
      "Help on function squared_power in module __main__:\n",
      "\n",
      "squared_power(digit, exp)\n",
      "    This is a docstring. It is written to explain a function.\n",
      "    This function gets two values, digit and exp. \n",
      "    Then it returns two values, digit to the power of exp, and root of \n",
      "    digit based on 1/exp.\n",
      "\n"
     ]
    }
   ],
   "source": [
    "help(squared_power)"
   ]
  },
  {
   "cell_type": "markdown",
   "metadata": {},
   "source": [
    "##### Tuple:\n",
    "Similar to lists:\n",
    "- use () to define\n",
    "- it is immutable\n",
    "- we use the same zero indexing accessing"
   ]
  },
  {
   "cell_type": "code",
   "execution_count": 7,
   "metadata": {},
   "outputs": [
    {
     "name": "stdout",
     "output_type": "stream",
     "text": [
      "2 to the power of 3 is 8 and its squared is : 1.2599210498948732\n"
     ]
    }
   ],
   "source": [
    "power, squared = squared_power(2, 3)  # unpacking tuple\n",
    "print(\"2 to the power of 3 is {} and its squared is : {}\".format(power, squared))"
   ]
  },
  {
   "cell_type": "markdown",
   "metadata": {},
   "source": [
    "#### scope\n",
    "\n",
    "when we search a name, first local scope is searched, then global.\n",
    "You can acess and modify global variables inside a funtion by using ``global`` keyword before the variable.\n",
    "\n",
    "- local\n",
    "- enclosing function\n",
    "- flobal\n",
    "- built ins"
   ]
  },
  {
   "cell_type": "code",
   "execution_count": 15,
   "metadata": {},
   "outputs": [
    {
     "name": "stdout",
     "output_type": "stream",
     "text": [
      "5\n",
      "12\n",
      "6\n"
     ]
    }
   ],
   "source": [
    "value = 5\n",
    "print(value) # returns the global value\n",
    "def function():\n",
    "    global value # bringing the global value scope into function\n",
    "    value = 6 # increasing value\n",
    "    return value * 2 # rerutning value\n",
    "print(function())\n",
    "print(value) # though value is modified inside th duction, it was updated"
   ]
  },
  {
   "cell_type": "markdown",
   "metadata": {},
   "source": [
    "#### enclosure (nested loops)\n",
    "\n",
    "#### flexible arguments\n",
    "- when there are some default arguments\n",
    "- when there are many argument you dont know how many\n",
    "- etc"
   ]
  },
  {
   "cell_type": "code",
   "execution_count": 16,
   "metadata": {},
   "outputs": [
    {
     "name": "stdout",
     "output_type": "stream",
     "text": [
      "9\n",
      "125\n"
     ]
    }
   ],
   "source": [
    "# default function\n",
    "\n",
    "def adder(a, b=0): # if no second argument is provided\n",
    "    return a + b \n",
    "\n",
    "print(adder(4,5))\n",
    "print(adder(125))"
   ]
  },
  {
   "cell_type": "code",
   "execution_count": 25,
   "metadata": {},
   "outputs": [
    {
     "name": "stdout",
     "output_type": "stream",
     "text": [
      "Hey.\n",
      "Hi this is Wall-E.\n"
     ]
    }
   ],
   "source": [
    "# arbitrary number of arguments -- put *args in the function(* is what important)\n",
    "def sentence(*args): # whatever number of argument you input, becomes a tuple args(arguments)\n",
    "    # args data type is tuple\n",
    "    return \" \".join(args) + \".\"\n",
    "print(sentence(\"Hey\"))\n",
    "print(sentence(\"Hi\",\"this\",\"is\",\"Wall-E\"))"
   ]
  },
  {
   "cell_type": "code",
   "execution_count": 28,
   "metadata": {},
   "outputs": [
    {
     "name": "stdout",
     "output_type": "stream",
     "text": [
      "name  of this user is :  Moe\n",
      "job  of this user is :  teacher\n",
      "age  of this user is :  35\n",
      "status  of this user is :  married\n"
     ]
    }
   ],
   "source": [
    "# arbitrary number of key value pairs -- put **kwargs in the function (** is what important)\n",
    "def profiler(**kwargs):\n",
    "    # kwargs data type is dictionary\n",
    "    for key, value in kwargs.items():\n",
    "        print(key,\" of this user is : \", value)\n",
    "\n",
    "profiler(name='Moe', job='teacher', age=35, status='married')"
   ]
  },
  {
   "cell_type": "markdown",
   "metadata": {},
   "source": [
    "#### lambda \n",
    "\n",
    "On the fly functions."
   ]
  },
  {
   "cell_type": "code",
   "execution_count": 30,
   "metadata": {},
   "outputs": [
    {
     "data": {
      "text/plain": [
       "8"
      ]
     },
     "execution_count": 30,
     "metadata": {},
     "output_type": "execute_result"
    }
   ],
   "source": [
    "power = lambda x, y : x ** y\n",
    "power(2,3)"
   ]
  },
  {
   "cell_type": "markdown",
   "metadata": {},
   "source": [
    "#### list comprehenssion\n",
    "On the fly iterable manipulation. Colapses for loops for building list manipulation into a single line."
   ]
  },
  {
   "cell_type": "code",
   "execution_count": 33,
   "metadata": {},
   "outputs": [
    {
     "name": "stdout",
     "output_type": "stream",
     "text": [
      "[49, 36, 36, 64]\n",
      "[(0, 5), (0, 6), (1, 5), (1, 6), (2, 5), (2, 6), (3, 5), (3, 6)]\n",
      "['Ali', 'Natalie', 'George', 'Enily', 'David']\n"
     ]
    }
   ],
   "source": [
    "heights = [7, 6, 6, 8]\n",
    "weights = [180, 160, 120, 210]\n",
    "heights_squared = [x ** 2 for x in heights] # simple list comprehenssion\n",
    "print(heights_squared)\n",
    "nested_list = [(i,j) for i in range(4) for j in range(5,7)]  # nested list\n",
    "print(nested_list)\n",
    "names = ['ali', 'natalie', 'george', 'enily', 'david']\n",
    "capitalized_names = [a[0].upper()+a[1:] for a in names]\n",
    "print(capitalized_names)"
   ]
  },
  {
   "cell_type": "code",
   "execution_count": 36,
   "metadata": {},
   "outputs": [
    {
     "name": "stdout",
     "output_type": "stream",
     "text": [
      "[180, 210]\n",
      "['heavy', 'light', 'light', 'heavy']\n"
     ]
    }
   ],
   "source": [
    "# now let's check out some conditonal capabilities\n",
    "\n",
    "heavys = [weight for weight in weights if weight > 160]  # condition on values\n",
    "print(heavys)\n",
    "# we filtered the input, we can also return different values conditionaly\n",
    "weights_category = ['heavy' if weight > 160 else 'light' for weight in weights]\n",
    "print(weights_category)"
   ]
  },
  {
   "cell_type": "markdown",
   "metadata": {},
   "source": [
    "#### dictionary comprehenssion"
   ]
  },
  {
   "cell_type": "code",
   "execution_count": 39,
   "metadata": {},
   "outputs": [
    {
     "data": {
      "text/plain": [
       "{1: 'four', 2: 'four', 3: 'four', 4: 'four'}"
      ]
     },
     "execution_count": 39,
     "metadata": {},
     "output_type": "execute_result"
    }
   ],
   "source": [
    "numbers = [1, 2, 3, 4]\n",
    "english = ['one', 'two', 'three', 'four']\n",
    "number_dict = {key:value for key in numbers for value in english}\n",
    "number_dict"
   ]
  },
  {
   "cell_type": "markdown",
   "metadata": {},
   "source": [
    "#### generator expressions\n",
    "very similar to list comprehenssion. only it generates iterators. just replace [] with ().\n",
    "Generator doesnt store data on memory, rather we can itearte over and get the next value when needed.\n",
    "\n",
    "This is ``lazy evaluation``. Data is not return until needed."
   ]
  },
  {
   "cell_type": "code",
   "execution_count": 47,
   "metadata": {},
   "outputs": [
    {
     "name": "stdout",
     "output_type": "stream",
     "text": [
      "<generator object <genexpr> at 0x0000020CBB002A98>\n",
      "one\n",
      "two three four\n"
     ]
    }
   ],
   "source": [
    "gen = (eng for eng in english)\n",
    "# this will generate an iteartor, where the data is not stored\n",
    "# but rather it is accessed as needed\n",
    "print(gen) # what is he data type\n",
    "print(next(gen)) # printing first element of the generator\n",
    "print(*gen) # unpack the rest of the geneartor"
   ]
  },
  {
   "cell_type": "code",
   "execution_count": 53,
   "metadata": {},
   "outputs": [
    {
     "name": "stdout",
     "output_type": "stream",
     "text": [
      "<class 'generator'>\n",
      "0 1 2 3 4 5 6 7 8 9\n",
      "\n"
     ]
    }
   ],
   "source": [
    "# developing geneartor in another way\n",
    "def generator(n):\n",
    "    for i in range(n * 2):\n",
    "        yield i\n",
    "g = generator(5)        \n",
    "print(type(g)) # what is data type? geneartor object\n",
    "print(*g)\n",
    "print(*g) # nothing is left"
   ]
  },
  {
   "cell_type": "code",
   "execution_count": null,
   "metadata": {},
   "outputs": [],
   "source": []
  }
 ],
 "metadata": {
  "kernelspec": {
   "display_name": "Python 3",
   "language": "python",
   "name": "python3"
  },
  "language_info": {
   "codemirror_mode": {
    "name": "ipython",
    "version": 3
   },
   "file_extension": ".py",
   "mimetype": "text/x-python",
   "name": "python",
   "nbconvert_exporter": "python",
   "pygments_lexer": "ipython3",
   "version": "3.6.4"
  }
 },
 "nbformat": 4,
 "nbformat_minor": 2
}
