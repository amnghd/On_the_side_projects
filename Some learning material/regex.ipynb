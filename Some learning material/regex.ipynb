{
 "cells": [
  {
   "cell_type": "code",
   "execution_count": 2,
   "metadata": {},
   "outputs": [],
   "source": [
    "#examples and workflow is adopted from \"Mastering Regular Expressions with Python\""
   ]
  },
  {
   "cell_type": "code",
   "execution_count": 3,
   "metadata": {},
   "outputs": [],
   "source": [
    "import re"
   ]
  },
  {
   "cell_type": "code",
   "execution_count": 4,
   "metadata": {},
   "outputs": [],
   "source": [
    "pattern = re.compile(r'\\bfoo\\b') # \"r\" is used for raw string notation to make \\ non-special character (\\n =>\\n)"
   ]
  },
  {
   "cell_type": "code",
   "execution_count": 5,
   "metadata": {},
   "outputs": [
    {
     "data": {
      "text/plain": [
       "<_sre.SRE_Match object; span=(0, 3), match='foo'>"
      ]
     },
     "execution_count": 5,
     "metadata": {},
     "output_type": "execute_result"
    }
   ],
   "source": [
    "pattern.match(\"foo bar\") # single match at a time starting from the beginning of the line"
   ]
  },
  {
   "cell_type": "code",
   "execution_count": 6,
   "metadata": {},
   "outputs": [
    {
     "name": "stdout",
     "output_type": "stream",
     "text": [
      "<_sre.SRE_Match object; span=(8, 15), match='morning'>\n"
     ]
    }
   ],
   "source": [
    "# multiline parameter inside compile\n",
    "# search starts from any point of the string but still is a single\n",
    "pattern = re.compile(r'^morning', re.MULTILINE) # checking the regex pattern at the beginning of each line\n",
    "print(pattern.search(\"\\n\\nsalam\\nmorning\"))"
   ]
  },
  {
   "cell_type": "code",
   "execution_count": 7,
   "metadata": {},
   "outputs": [
    {
     "data": {
      "text/plain": [
       "['333-345', '333999']"
      ]
     },
     "execution_count": 7,
     "metadata": {},
     "output_type": "execute_result"
    }
   ],
   "source": [
    "# findall returns a list of all non-verlapping occurances of the pattern\n",
    "pattern = re.compile(r\"\\d{3}[\\s-]?\\d{3}\")\n",
    "pattern.findall(\"My id is 333-345 and his id is 333999\")"
   ]
  },
  {
   "cell_type": "code",
   "execution_count": 8,
   "metadata": {},
   "outputs": [
    {
     "name": "stdout",
     "output_type": "stream",
     "text": [
      "('Jun', 'Sungi')\n",
      "(11, 20)\n",
      "('Bernardo', 'Francisi')\n",
      "(37, 54)\n",
      "('Angela', 'Berlostoni')\n",
      "(63, 80)\n"
     ]
    }
   ],
   "source": [
    "# finditer yeilds an iterator that each elements of it is one match object with groups and other methods.\n",
    "pattern = re.compile(r\"([A-Z]{1}[a-z]{,20})\\s([A-Z]{1}[a-z]{,20}i{1})\") #  Persian first name and last name\n",
    "it = pattern.finditer(\"my name is Jun Sungi and his name is Bernardo Francisi\\n she is Angela Berlostoni\")\n",
    "for match in it: # iterators can be iterated over similar to iterables\n",
    "    print(match.groups()) # this is called capturing via group function\n",
    "    print(match.span())"
   ]
  },
  {
   "cell_type": "code",
   "execution_count": 9,
   "metadata": {},
   "outputs": [
    {
     "data": {
      "text/plain": [
       "['I',\n",
       " 'love',\n",
       " 'working',\n",
       " 'on',\n",
       " 'any',\n",
       " 'nlp',\n",
       " 'related',\n",
       " 'works',\n",
       " 'It',\n",
       " 'will',\n",
       " 'be',\n",
       " 'the',\n",
       " 'future',\n",
       " 'of',\n",
       " 'the',\n",
       " 'world',\n",
       " 'ip',\n",
       " '']"
      ]
     },
     "execution_count": 9,
     "metadata": {},
     "output_type": "execute_result"
    }
   ],
   "source": [
    "# split is used for tokenizing the sentences (strings), you can set the number of splits you like to see\n",
    "pattern = re.compile(r\"[^a-zA-Z]+\")\n",
    "pattern.split(\"I love working on - any- =+ @#@#@#@ -nlp related works. It will be the future of the world!!!!! ip=192.168.0.1\")"
   ]
  },
  {
   "cell_type": "code",
   "execution_count": 10,
   "metadata": {},
   "outputs": [
    {
     "data": {
      "text/plain": [
       "'Replace any number with -[num]- in this document.\\n [num] days remained to end of yeayr [num].by then you will weight close to [num] pounds and [num] oz! '"
      ]
     },
     "execution_count": 10,
     "metadata": {},
     "output_type": "execute_result"
    }
   ],
   "source": [
    "# you can use sub(repl, string, count) by replacing the matched pattern with a replacement\n",
    "pattern = re.compile(r\"\\d+\")\n",
    "string = \"Replace any number with -[num]- in this document.\\n 123 days remained to end of yeayr 2122.\\\n",
    "by then you will weight close to 190 pounds and 12 oz! \"\n",
    "pattern.sub(\"[num]\", string)"
   ]
  },
  {
   "cell_type": "code",
   "execution_count": 11,
   "metadata": {},
   "outputs": [
    {
     "data": {
      "text/plain": [
       "'B4561A512'"
      ]
     },
     "execution_count": 11,
     "metadata": {},
     "output_type": "execute_result"
    }
   ],
   "source": [
    "# you can also substitute with a function instead of a string if you are trying to modify a specific group of the text\n",
    "#let's assume you wan to replace A with B and - with A in a specific position:\n",
    "\n",
    "def susbstituter(matchobject):\n",
    "    try:\n",
    "        if matchobject.group(1) == 'A': return 'B'\n",
    "        elif matchobject.group(1) == '-': return 'A'\n",
    "    except:\n",
    "        pass\n",
    "\n",
    "pattern =re.compile(r'([AB-])')\n",
    "pattern.sub(susbstituter, \"A4561-512\")"
   ]
  },
  {
   "cell_type": "code",
   "execution_count": 12,
   "metadata": {},
   "outputs": [
    {
     "data": {
      "text/plain": [
       "'where <it>tetha<\\\\it> is the phase angle and <it>c<\\\\it> is the speed of light.'"
      ]
     },
     "execution_count": 12,
     "metadata": {},
     "output_type": "execute_result"
    }
   ],
   "source": [
    "# now let's try to substitude italic operation in markdown with bold operation in html\n",
    "# we will use back reference \n",
    "text = \"where **tetha** is the phase angle and **c** is the speed of light.\" # italic in markdown format\n",
    "pattern = re.compile(r\"\\*\\*(.*?)\\*\\*\") # we made it none greedy using ?\n",
    "pattern.sub(r\"<it>\\g<1><\\\\it>\", text) #where \\g<num> is the groups number of matched"
   ]
  },
  {
   "cell_type": "code",
   "execution_count": 13,
   "metadata": {},
   "outputs": [
    {
     "data": {
      "text/plain": [
       "('where <it>tetha<\\\\it> is the phase angle and <it>c<\\\\it> is the speed of light.',\n",
       " 2)"
      ]
     },
     "execution_count": 13,
     "metadata": {},
     "output_type": "execute_result"
    }
   ],
   "source": [
    "# if you would like to know how many substitution has been made, use subn , it will return a tuple\n",
    "# of the number of iterations and the new text\n",
    "text = \"where **tetha** is the phase angle and **c** is the speed of light.\" # italic in markdown format\n",
    "pattern = re.compile(r\"\\*\\*(.*?)\\*\\*\") # we made it none greedy using ?\n",
    "pattern.subn(r\"<it>\\g<1><\\\\it>\", text) #where \\g<num> is the groups number of matched\n"
   ]
  },
  {
   "cell_type": "code",
   "execution_count": 15,
   "metadata": {},
   "outputs": [
    {
     "name": "stdout",
     "output_type": "stream",
     "text": [
      "[('AB', '3438734'), ('AJ', '983834'), ('JJ', '6483')]\n",
      "[]\n",
      "[]\n",
      "[]\n"
     ]
    }
   ],
   "source": [
    "# you can name groups in your regex using ?P<name> for example\n",
    "pattern = re.compile(r\"(?P<id>\\w+)-(?P<digits>\\d+)\")\n",
    "it = pattern.finditer(\"AB-3438734 is the daughter of AJ-983834 and the mother of JJ-6483\")\n",
    "print([iter.groups() for iter in it]) # returns all the matches in a tuple\n",
    "print([iter.group(1) for iter in it]) # return group one results\n",
    "print([iter.group('digits') for iter in it]) # return group 2 results which is named 'digits'\n",
    "print([iter.group(\"id\", 2) for iter in it]) # print "
   ]
  },
  {
   "cell_type": "code",
   "execution_count": 16,
   "metadata": {},
   "outputs": [
    {
     "data": {
      "text/plain": [
       "{'id': 'AB', 'digits': '3438734'}"
      ]
     },
     "execution_count": 16,
     "metadata": {},
     "output_type": "execute_result"
    }
   ],
   "source": [
    "# you can access the group match as a hash table \n",
    "pattern.search(\"AB-3438734 is the daughter of AJ-983834 and the mother of JJ-6483\").groupdict() # only works when group's named"
   ]
  },
  {
   "cell_type": "code",
   "execution_count": 17,
   "metadata": {},
   "outputs": [],
   "source": [
    "## there are some compilation flags that define the behaviour of your pattern search\n",
    "# some examples are:\n",
    "# re.I the pattern will match both lowercase and uppercase\n",
    "# re.M modifies ^$ behavior it does the search for each line\n",
    "# re.S \".\" will match any character even newline\n",
    "# rel.L flags become dependant on current location\n",
    "# re.X makes writing the regex easier\n",
    "# re.DEBUG gives information about compilation patter\n",
    "# let's diveinto them"
   ]
  },
  {
   "cell_type": "code",
   "execution_count": 18,
   "metadata": {},
   "outputs": [
    {
     "data": {
      "text/plain": [
       "<_sre.SRE_Match object; span=(0, 6), match='abcdef'>"
      ]
     },
     "execution_count": 18,
     "metadata": {},
     "output_type": "execute_result"
    }
   ],
   "source": [
    "pattern = re.compile(\"[A-Z]+\", re.I)\n",
    "pattern.match(\"abcdef\")"
   ]
  },
  {
   "cell_type": "code",
   "execution_count": 19,
   "metadata": {},
   "outputs": [
    {
     "data": {
      "text/plain": [
       "['1234', '78578', '98', '343', '454']"
      ]
     },
     "execution_count": 19,
     "metadata": {},
     "output_type": "execute_result"
    }
   ],
   "source": [
    "pattern = re.compile(\"([0-9]+)\", re.M) # if you have something in groups format it will return group\n",
    "pattern.findall(\"1234 78578 \\n 98 343 454\")"
   ]
  },
  {
   "cell_type": "code",
   "execution_count": 25,
   "metadata": {},
   "outputs": [
    {
     "data": {
      "text/plain": [
       "[]"
      ]
     },
     "execution_count": 25,
     "metadata": {},
     "output_type": "execute_result"
    }
   ],
   "source": [
    "patterm = re.compile(r\"\\w+\", re.U) # gets access to all unicode alphanumeric\n",
    "pattern.findall(r\"یار مرا غار مرا عشق جگر خار مرا یار تویی غار تویی خاجه نگه دار مرا  غزل 123\")"
   ]
  },
  {
   "cell_type": "code",
   "execution_count": 26,
   "metadata": {},
   "outputs": [],
   "source": [
    "# Grouping\n",
    "# we use paranthesis to change alteration\n",
    "pattern = re.compile(\"Espana(a|ol)\") # match espana or espanaol"
   ]
  },
  {
   "cell_type": "code",
   "execution_count": 27,
   "metadata": {},
   "outputs": [
    {
     "ename": "NameError",
     "evalue": "name 'march' is not defined",
     "output_type": "error",
     "traceback": [
      "\u001b[1;31m---------------------------------------------------------------------------\u001b[0m",
      "\u001b[1;31mNameError\u001b[0m                                 Traceback (most recent call last)",
      "\u001b[1;32m<ipython-input-27-60f39d6cdb37>\u001b[0m in \u001b[0;36m<module>\u001b[1;34m()\u001b[0m\n\u001b[0;32m      3\u001b[0m \u001b[1;31m# you can use this pattern to remove duplicates\u001b[0m\u001b[1;33m\u001b[0m\u001b[1;33m\u001b[0m\u001b[0m\n\u001b[0;32m      4\u001b[0m \u001b[0mmatch\u001b[0m \u001b[1;33m=\u001b[0m \u001b[0mpattern\u001b[0m\u001b[1;33m.\u001b[0m\u001b[0msearch\u001b[0m\u001b[1;33m(\u001b[0m\u001b[1;34mr\"bye-bye birdy\"\u001b[0m\u001b[1;33m)\u001b[0m\u001b[1;33m\u001b[0m\u001b[0m\n\u001b[1;32m----> 5\u001b[1;33m \u001b[0mmarch\u001b[0m\u001b[1;33m.\u001b[0m\u001b[0mgroup\u001b[0m\u001b[1;33m(\u001b[0m\u001b[1;33m)\u001b[0m \u001b[1;31m# this will return the first group that has matched \"bye\"\u001b[0m\u001b[1;33m\u001b[0m\u001b[0m\n\u001b[0m",
      "\u001b[1;31mNameError\u001b[0m: name 'march' is not defined"
     ]
    }
   ],
   "source": [
    "# backreferenceing groups you can use \\num to back reference to a previous group number\n",
    "pattern = re.compile(r\"(\\w+)-\\1\") # whati it says is to find a word that is followed by an space by itself, recall group (0) is all\n",
    "# you can use this pattern to remove duplicates\n",
    "match = pattern.search(r\"bye-bye birdy\")\n",
    "march.group() # this will return the first group that has matched \"bye\""
   ]
  },
  {
   "cell_type": "code",
   "execution_count": null,
   "metadata": {},
   "outputs": [],
   "source": [
    "# you can also use backreferencing for swapping different groups assume you want to swap city and zipcode\n",
    "pattern = re.compile(r\"([A-Z]{1}[a-z]++), (\\d+)\")\n",
    "text = \"Hamedan, 126456 \\n Tehran, 89374\\n 34334 3434Mashad, 3437\\n$ $$ $ 4 error Yazd, 232323\"\n",
    "pattern.sub(\"\\2-\\1\")"
   ]
  },
  {
   "cell_type": "code",
   "execution_count": null,
   "metadata": {},
   "outputs": [],
   "source": [
    "#It is, however, a better practice to name the groups. this makes the code more scalable, here how it goes\n",
    "# (?P<name>pattern) you access this in other regex using \\g<name> for submission and (?P=name) for repition\n",
    "\n",
    "pattern = re.compile(r\"(?P<first_name>[A-Z]{1}[a-z]+) (?P<last_name>[A-Z]{1}[a-z])\")\n",
    "match = pattern.search(\"Jassem Karrar\")\n",
    "print(match.group(\"first_name\"))\n",
    "print(match.group(\"last_name\"))\n",
    "print(\"reverse is :\" + pattern.sub(r\"\\g<last_name>-\\g<first_name>\", \"Juliet Binoche 12135433\"))"
   ]
  },
  {
   "cell_type": "code",
   "execution_count": null,
   "metadata": {},
   "outputs": [],
   "source": [
    "# if we want to check the duplicates names\n",
    "pattern = re.compile(r\"(?P<name>[A-Z]{1}[a-z]+) (?P=name)+\")\n",
    "pattern.search(r\"Tom Tom Tom Cruise\").groups()"
   ]
  },
  {
   "cell_type": "code",
   "execution_count": 28,
   "metadata": {},
   "outputs": [
    {
     "ename": "TypeError",
     "evalue": "'str' object cannot be interpreted as an integer",
     "output_type": "error",
     "traceback": [
      "\u001b[1;31m---------------------------------------------------------------------------\u001b[0m",
      "\u001b[1;31mTypeError\u001b[0m                                 Traceback (most recent call last)",
      "\u001b[1;32m<ipython-input-28-3a9bed13a9d1>\u001b[0m in \u001b[0;36m<module>\u001b[1;34m()\u001b[0m\n\u001b[0;32m      2\u001b[0m \u001b[1;31m# if we want to use grouping for alternation but we dont want to save the groups (saving some memory)\u001b[0m\u001b[1;33m\u001b[0m\u001b[1;33m\u001b[0m\u001b[0m\n\u001b[0;32m      3\u001b[0m \u001b[0mpattern\u001b[0m \u001b[1;33m=\u001b[0m \u001b[0mre\u001b[0m\u001b[1;33m.\u001b[0m\u001b[0mcompile\u001b[0m\u001b[1;33m(\u001b[0m\u001b[1;34m\"Analy(?:s|z)e\"\u001b[0m\u001b[1;33m)\u001b[0m \u001b[1;31m# ?: makes the group not saving it\u001b[0m\u001b[1;33m\u001b[0m\u001b[0m\n\u001b[1;32m----> 4\u001b[1;33m \u001b[0mprint\u001b[0m\u001b[1;33m(\u001b[0m\u001b[0mpattern\u001b[0m\u001b[1;33m.\u001b[0m\u001b[0msearch\u001b[0m\u001b[1;33m(\u001b[0m\u001b[0mpattern\u001b[0m\u001b[1;33m,\u001b[0m \u001b[1;34m\"Analyze is the same as analyse?\"\u001b[0m\u001b[1;33m)\u001b[0m\u001b[1;33m.\u001b[0m\u001b[0mgroups\u001b[0m\u001b[1;33m(\u001b[0m\u001b[1;33m)\u001b[0m\u001b[1;33m)\u001b[0m\u001b[1;33m\u001b[0m\u001b[0m\n\u001b[0m",
      "\u001b[1;31mTypeError\u001b[0m: 'str' object cannot be interpreted as an integer"
     ]
    }
   ],
   "source": [
    "## non-capturing grouping\n",
    "# if we want to use grouping for alternation but we dont want to save the groups (saving some memory)\n",
    "pattern = re.compile(\"Analy(?:s|z)e\") # ?: makes the group not saving it\n",
    "print(pattern.search(pattern, \"Analyze is the same as analyse?\").groups())"
   ]
  },
  {
   "cell_type": "code",
   "execution_count": null,
   "metadata": {},
   "outputs": [],
   "source": [
    "## you caan use attomic matching to just check once and if it fails doesnt start with the next char pattern = \"(?>\\w+)\""
   ]
  },
  {
   "cell_type": "code",
   "execution_count": null,
   "metadata": {},
   "outputs": [],
   "source": [
    "## how about if statement? we would like to check if some group has happened before?\n",
    "# Here is the syntanx (?(group1/group2)yes_pattern|no_pattern)\n",
    "# for example you want to match if user input a username or an email\n",
    "pattern = re.compile(r\"(?P<name>[A-Za-z]{1}\\w{,30}){1}(?P<domain>@[a-z]{,10})?(?(domain)(\\.[a-z]{3}))\")\n",
    "print(pattern.findall(\"zibaei@yahoo.com shirini1365 54564646 mashang@ ghorban.com\"))"
   ]
  },
  {
   "cell_type": "code",
   "execution_count": null,
   "metadata": {},
   "outputs": [],
   "source": [
    "# A character that is matched is discarded\n",
    "# In order to be able to look ahead or look back (look around), we use metacharacters called zero-width methacharacters\n",
    "\n",
    "# Look ahead uses (?=expression). at each location, it looks to see if it finds any match, however it does not consume\n",
    "# (discard) what it has matched\n",
    "# lets find all the objects of a sentence (anything comes before . or ,)\n",
    "\n",
    "pattern = re.compile(\"\\w+(?=,|\\.)\")\n",
    "pattern.findall(\"He walked the dog, then ate his salad, and finally went to bed.\")"
   ]
  },
  {
   "cell_type": "code",
   "execution_count": null,
   "metadata": {},
   "outputs": [],
   "source": [
    "# if you want to negate look ahaed (negative look ahead), you can use (?!expression). It matches expressions that are \n",
    "# not followed by \"expression\"\n",
    "pattern = re.compile(r\"کتاب(?!\\sمثنوی)\") # assume you want to find any کتاب that is not مثنوی"
   ]
  },
  {
   "cell_type": "code",
   "execution_count": null,
   "metadata": {},
   "outputs": [],
   "source": [
    "pattern = re.compile(r\"کتاب(?!\\sمثنوی) \\w+\") # assume you want to find any کتاب that is not مثنوی\n",
    "it = pattern.findall(\"کتاب مثنوی و کتاب گلستان و کتاب حافظ بسیار مفید هستند.\")"
   ]
  },
  {
   "cell_type": "code",
   "execution_count": null,
   "metadata": {},
   "outputs": [],
   "source": [
    "# now we are using sub function with the lookahead\n",
    "# assume we want to replace numbers to seperate numbers to dash seperated pack of 4 numbers from right to left\n",
    "pattern = re.compile(r\"\\d{1,4}(?=(\\d{4})+(?!\\d))\")\n",
    "print(pattern.sub(\"\\g<0>-\", '12334566764345345234234')) # since the look ahead is zero width, we can not use it for \n",
    "# findall and finditer, it would not be shown"
   ]
  },
  {
   "cell_type": "code",
   "execution_count": 29,
   "metadata": {},
   "outputs": [
    {
     "name": "stdout",
     "output_type": "stream",
     "text": [
      "['12:45:04 - errror number 65 syntax failure']\n"
     ]
    }
   ],
   "source": [
    "## look behind uses this logic ?<=expression. the expression used should be a fixed-width,\n",
    "## look behind logic for reverse is ?<!expression\n",
    "## for example, we are looking inside a dated log and want to check all the failures that are not auth. failure\n",
    "## here is an example 12:43:02 - errror number 64 auth. failure\n",
    "text = \"12:43:02 - errror number 64 auth. failure\\n12:45:04 - errror number 65 syntax failure\"\n",
    "pat = r\"\\d{2}:\\d{2}:\\d{2}\\s-\\s[\\w\\.\\s]*(?<!auth.\\s)failure\"\n",
    "pattern = re.compile(pat, re.M) # make the compilation multiline\n",
    "print(pattern.findall(text))"
   ]
  },
  {
   "cell_type": "code",
   "execution_count": 30,
   "metadata": {},
   "outputs": [
    {
     "name": "stdout",
     "output_type": "stream",
     "text": [
      "['1233453456', '3453453456']\n"
     ]
    }
   ],
   "source": [
    "## if we want to know how our program is doing, we can use cprofiler which is python built-in profiler\n",
    "import cProfile\n",
    "def phone_extractor(text):\n",
    "    pattern = re.compile(\"\\d{3}\\d{3}\\d{4}\")\n",
    "    return pattern.findall(text)\n",
    "\n",
    "\n",
    "print(phone_extractor(\"1233453456 3453453456\"))"
   ]
  },
  {
   "cell_type": "code",
   "execution_count": 31,
   "metadata": {},
   "outputs": [],
   "source": [
    "# some practices from regex practices on the hackerrank\n",
    "pattern = re.compile(r\"^[+-]?\\d*\\.\\d+$\") # detecting floating point number\n",
    "pattern = re.compile(r\"(?P<rep>[a-zA-Z0-9]{1})(?P=rep)\") # detecting the reoccurance of alphanumerical values\n",
    "pattern = re.compile(r\"(?<=[^aeiou]{1})[aeiou]{2,}(?=[^aeiou]{1})\") # detecting multiple vowels inside 2 consonants\n",
    "# replacing \"&&\" and \"||\" with \"and\" and \"or\"\n",
    "pattern = re.compile(r\"(?<= )(?P<oper>&{2}|\\|{2})(?= )\")\n",
    "pattern.sub(lambda x: \"and\" if x.group('oper')=='&&' else \"or\", text)\n",
    "# matching a ten digit phone number starting by 7,8,9\n",
    "pattern = re.compile(r\"^[789][0-9]{9}$\")\n",
    "# matching email address with format <username@domain.extension>\n",
    "pattern = re.compile(r\"<(?P<user>[a-zA-Z][\\w\\-\\._]+)@(?P<dom>[a-zA-Z]+)\\.(?P<ext>[a-zA-Z]{1,3})>\")\n",
    "pattern = re.compile(r\"(?<=\\W)(#[a-fA-F0-9]{3}(?!\\w)|#[a-fA-F0-9]{6})\") # taking out HEX color codes "
   ]
  },
  {
   "cell_type": "code",
   "execution_count": 28,
   "metadata": {},
   "outputs": [],
   "source": [
    "# Nice problems: https://www.hackerrank.com/challenges/validating-uid/problem\n",
    "#A valid UID must follow the rules below:\n",
    "\n",
    "#It must contain at least  uppercase English alphabet characters.\n",
    "#It must contain at least  digits ( - ).\n",
    "#It should only contain alphanumeric characters ( - ,  -  &  - ).\n",
    "#No character should repeat.\n",
    "#There must be exactly  characters in a valid UID.\n"
   ]
  },
  {
   "cell_type": "code",
   "execution_count": 23,
   "metadata": {},
   "outputs": [
    {
     "name": "stdout",
     "output_type": "stream",
     "text": [
      "3\n",
      "5AW4F5SKRK\n",
      "Invalid\n",
      "W45A55K455\n",
      "Invalid\n",
      "BQWAILU471\n",
      "Valid\n"
     ]
    }
   ],
   "source": [
    "# in general I found this way of writing regex match expressions much more intuitive\n",
    "def boolanizer(pattern, string):\n",
    "    pattern = re.compile(pattern)\n",
    "    return bool(pattern.search(string))\n",
    "\n",
    "def UID_checker(string):\n",
    "    length_10 = r\"[a-zA-Z0-9]{10}\"\n",
    "    alpha_2 = r\"[A-Z].*[A-Z]\"\n",
    "    numer_3 = r\"\\d.*\\d.*\\d\"\n",
    "    repeater = r\"(.).*\\1\"\n",
    "\n",
    "    if (\n",
    "        boolanizer(length_10, string) and \n",
    "        boolanizer(alpha_2, string) and\n",
    "        boolanizer(numer_3, string) and \n",
    "        not boolanizer(repeater, string)\n",
    "    ):\n",
    "        return \"Valid\"\n",
    "    else:\n",
    "        return \"Invalid\"\n",
    "\n",
    "for _ in range(int(input())):\n",
    "    print(UID_checker(input()))"
   ]
  },
  {
   "cell_type": "code",
   "execution_count": 30,
   "metadata": {},
   "outputs": [
    {
     "name": "stdout",
     "output_type": "stream",
     "text": [
      "542361\n",
      "True\n"
     ]
    }
   ],
   "source": [
    "# Another interesting example\n",
    "# Match digits between 100,000 to 999,999\n",
    "# There is not more than 1 alternating numbers e.g. 121 or 545\n",
    "# https://www.hackerrank.com/challenges/validating-postalcode/problem\n",
    " \n",
    "def postal_code_validator(s):\n",
    "    egex_integer_in_range = r\"^[1-9]\\d{5}$\" \n",
    "    regex_alternating_repetitive_digit_pair = r\"(.)(?=.\\1)\"\n",
    "    print (bool(re.match(egex_integer_in_range , s) and len(re.findall(regex_alternating_repetitive_digit_pair,s))<2 ))\n",
    "\n",
    "postal_code_validator(input())"
   ]
  }
 ],
 "metadata": {
  "kernelspec": {
   "display_name": "Python 3",
   "language": "python",
   "name": "python3"
  },
  "language_info": {
   "codemirror_mode": {
    "name": "ipython",
    "version": 3
   },
   "file_extension": ".py",
   "mimetype": "text/x-python",
   "name": "python",
   "nbconvert_exporter": "python",
   "pygments_lexer": "ipython3",
   "version": "3.6.4"
  }
 },
 "nbformat": 4,
 "nbformat_minor": 2
}
