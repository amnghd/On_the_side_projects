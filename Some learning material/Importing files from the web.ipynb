{
 "cells": [
  {
   "cell_type": "markdown",
   "metadata": {},
   "source": [
    "# Importing data from web\n",
    "\n",
    "Accessing data from web allows:\n",
    "-  Scalability\n",
    "-  Reproducibility"
   ]
  },
  {
   "cell_type": "markdown",
   "metadata": {},
   "source": [
    "#### Using urlretrive to download files from internet\n",
    "\n",
    "You can also not download the file, rather import it to dataframe directly.\n",
    "- URL: universal resource loator --> reference to web resources\n",
    "- can also access FTP and web addresses\n",
    "- protocol identifier: http, resource identifier: googlc.om\n",
    "- HTTP is one protocol, ftp, https is another one\n",
    "- HTTP hyper text transer protocol\n",
    "- Everytime you go online you send a HTTP get request\n",
    "- Urlretrueve performs a get request, saves the data locally\n",
    "- HTML data from (hyper text markup language) standard markup languae for internet"
   ]
  },
  {
   "cell_type": "code",
   "execution_count": 9,
   "metadata": {},
   "outputs": [
    {
     "data": {
      "text/plain": [
       "('imported data/salaries.csv', <http.client.HTTPMessage at 0x18dbb9e8a58>)"
      ]
     },
     "execution_count": 9,
     "metadata": {},
     "output_type": "execute_result"
    }
   ],
   "source": [
    "from urllib.request import urlretrieve\n",
    "import pandas as pd\n",
    "url = 'https://www.nj.gov/transparency/payroll/data/payroll_2010_rawdata.csv'  # where is the file locate\n",
    "\n",
    "urlretrieve(url, 'imported data/salaries.csv')  # download the file locally"
   ]
  },
  {
   "cell_type": "code",
   "execution_count": 11,
   "metadata": {},
   "outputs": [
    {
     "data": {
      "text/plain": [
       "<matplotlib.axes._subplots.AxesSubplot at 0x18dbcc406a0>"
      ]
     },
     "execution_count": 11,
     "metadata": {},
     "output_type": "execute_result"
    }
   ],
   "source": [
    "payroll = pd.read_csv('imported data/salaries.csv')"
   ]
  },
  {
   "cell_type": "code",
   "execution_count": 14,
   "metadata": {},
   "outputs": [
    {
     "data": {
      "text/plain": [
       "<matplotlib.axes._subplots.AxesSubplot at 0x18dbf6ddd68>"
      ]
     },
     "execution_count": 14,
     "metadata": {},
     "output_type": "execute_result"
    },
    {
     "data": {
      "image/png": "[encoded data removed]",
      "text/plain": [
       "<matplotlib.figure.Figure at 0x18dbf64c908>"
      ]
     },
     "metadata": {},
     "output_type": "display_data"
    }
   ],
   "source": [
    "import matplotlib.pyplot as plt\n",
    "payroll['REGULAR_PAY'].hist()"
   ]
  },
  {
   "cell_type": "markdown",
   "metadata": {},
   "source": [
    "#### importing files directly from the web\n",
    "Accessing the data without downloading it.\n",
    "\n",
    "Extracting HTML using URLLIB:"
   ]
  },
  {
   "cell_type": "code",
   "execution_count": 25,
   "metadata": {
    "hideCode": false
   },
   "outputs": [
    {
     "name": "stdout",
     "output_type": "stream",
     "text": [
      "<class 'http.client.HTTPResponse'>\n"
     ]
    }
   ],
   "source": [
    "from urllib.request import urlopen, Request\n",
    "url = 'https://en.wikipedia.org/wiki/Regular_expression'\n",
    "request = Request(url)  # package the get request to be sent\n",
    "response = urlopen(request)  # send the request and download the response\n",
    "print(type(response))\n",
    "# the response object has a read method to open it\n",
    "html = response.read()  # html in a string\n",
    "response.close()  # request closed"
   ]
  },
  {
   "cell_type": "markdown",
   "metadata": {},
   "source": [
    "Using ***``requests``*** package to do the same.:\n",
    "Requests allows send organic HTTP request without a need for manual labor."
   ]
  },
  {
   "cell_type": "code",
   "execution_count": 26,
   "metadata": {},
   "outputs": [
    {
     "name": "stdout",
     "output_type": "stream",
     "text": [
      "<class 'requests.models.Response'>\n"
     ]
    },
    {
     "data": {
      "text/plain": [
       "'<!DOCTYPE html>\\n<html class=\"client-nojs\" lang=\"en\" dir=\"ltr\">\\n<head>\\n<meta charset=\"UTF-8\"/>\\n<title'"
      ]
     },
     "execution_count": 26,
     "metadata": {},
     "output_type": "execute_result"
    }
   ],
   "source": [
    "import requests\n",
    "url = 'https://en.wikipedia.org/wiki/Regular_expression'\n",
    "r = requests.get(url) # package request, send request, and recieve it\n",
    "print(type(r))\n",
    "text = r.text  # getting the html in a string file\n",
    "text[:100]"
   ]
  },
  {
   "cell_type": "markdown",
   "metadata": {},
   "source": [
    "#### webscraping\n",
    "HTML is a mix of unstructured and structured data.\n",
    "HTML has tags that allows to access different functions.\n",
    "\n",
    "``Beautifulsoup method`` allows parse HTML string (from r.text) into structured data.\n",
    "- ``pretify()`` pretifies HTML into a structured format. The formating will be correct and everything will be beautifully formated (indented, etc).\n",
    "- ``title`` gives the title of the html\n",
    "- ``get_text()`` returning the text of the page\n",
    "- ``find_all()`` allows finding all tags"
   ]
  },
  {
   "cell_type": "code",
   "execution_count": 36,
   "metadata": {},
   "outputs": [
    {
     "name": "stdout",
     "output_type": "stream",
     "text": [
      "beautiful soup data type is:  <class 'bs4.BeautifulSoup'>\n",
      "prettified beautiful soup data type is:  <class 'str'>\n"
     ]
    }
   ],
   "source": [
    "from bs4 import BeautifulSoup\n",
    "soup = BeautifulSoup(text, 'html.parser')  # generating a beautifulsoup object from the string\n",
    "print(\"beautiful soup data type is: \",type(soup))\n",
    "pretty_soup = soup.prettify()  # pretifying the soup\n",
    "print(\"prettified beautiful soup data type is: \",type(pretty_soup))"
   ]
  },
  {
   "cell_type": "code",
   "execution_count": 38,
   "metadata": {},
   "outputs": [
    {
     "name": "stdout",
     "output_type": "stream",
     "text": [
      "prettified soup:\n",
      "\n",
      "<!DOCTYPE html>\n",
      "<html class=\"client-nojs\" dir=\"ltr\" lang=\"en\">\n",
      " <head>\n",
      "  <meta charset=\"utf-8\"/>\n",
      "  <\n"
     ]
    }
   ],
   "source": [
    "print(\"prettified soup:\\n\")\n",
    "print(pretty_soup[:100])"
   ]
  },
  {
   "cell_type": "code",
   "execution_count": 39,
   "metadata": {},
   "outputs": [
    {
     "name": "stdout",
     "output_type": "stream",
     "text": [
      "soup title:\n",
      "\n",
      "<title>Regular expression - Wikipedia</title>\n"
     ]
    }
   ],
   "source": [
    "print(\"soup title:\\n\")\n",
    "print(soup.title)"
   ]
  },
  {
   "cell_type": "code",
   "execution_count": 43,
   "metadata": {},
   "outputs": [
    {
     "name": "stdout",
     "output_type": "stream",
     "text": [
      "soup text:\n",
      "\n",
      "\n",
      "\n",
      "\n",
      "\n",
      "Regular expression - Wikipedia\n",
      "document.documentElement.className = document.documentElement.className.replace( /(^|\\s)client-nojs(\\s|$)/, \"$1client-js$2\" );\n",
      "(window.RLQ=window.RLQ||[]).push(function(){mw.config.set({\"wgCanonicalNamespace\":\"\",\"wgCanonicalSpecialPageName\":false,\"wgNamespaceNumber\":0,\"wgPageName\":\"Regular_expression\",\"wgTitle\":\"Regular expression\",\"wgCurRevisionId\":891117317,\"wg\n"
     ]
    }
   ],
   "source": [
    "print(\"soup text:\\n\")\n",
    "print(soup.get_text()[:400])"
   ]
  },
  {
   "cell_type": "markdown",
   "metadata": {},
   "source": [
    "soup.find_all('tag') allows you to access all the content for that specific tags.\n",
    "Here is a list of the tags are accessible [here](https://www.w3schools.com/tags/ref_byfunc.asp). A few interesting ones are:\n",
    "\n",
    "- ``<head>`` : information about the document\n",
    "- ``<body>`` : defines the document body\n",
    "- ``<br>``: defines breaks\n",
    "- ``<img>`` : defines an image\n",
    "- ``<a>``: defines a hyperlink\n",
    "- ``<link>``: defines the relationship between a document and external resource\n",
    "- ``<table>``: defines a table\n",
    "- ``<caption>``: defines a table caption\n",
    "- ``<div>``: defines a section in the docuemnt\n",
    "- ``<span>``:defines a section in the docuemnt\n",
    "- ``<script>``: defines a client side script"
   ]
  },
  {
   "cell_type": "code",
   "execution_count": 59,
   "metadata": {},
   "outputs": [
    {
     "name": "stdout",
     "output_type": "stream",
     "text": [
      "data type of find_all() <class 'bs4.element.ResultSet'>\n",
      "None\n",
      "#mw-head\n",
      "#p-search\n",
      "/wiki/Re:Gex\n",
      "/wiki/File:The_river_effect_in_justified_text.jpg\n",
      "/wiki/File:The_river_effect_in_justified_text.jpg\n",
      "/wiki/File:Kleene.jpg\n",
      "/wiki/File:Kleene.jpg\n",
      "/wiki/Stephen_Cole_Kleene\n",
      "/wiki/File:Screenshot_of_MediaWiki_Blacklist.png\n"
     ]
    }
   ],
   "source": [
    "print(\"data type of find_all()\", type(soup.find_all()))\n",
    "links = soup.find_all('a') # getting a resultset\n",
    "\n",
    "i = 0\n",
    "for link in links:\n",
    "    print(link.get('href')) # which parameter of that tag you need to retrieve\n",
    "    i += 1\n",
    "    if i ==10:\n",
    "        break"
   ]
  },
  {
   "cell_type": "code",
   "execution_count": 62,
   "metadata": {},
   "outputs": [
    {
     "name": "stdout",
     "output_type": "stream",
     "text": [
      "['noprint']\n",
      "['noprint']\n",
      "['mw-body']\n",
      "['mw-body-content']\n",
      "['mw-indicators', 'mw-body-content']\n",
      "['mw-body-content']\n",
      "['noprint']\n",
      "['mw-content-ltr']\n",
      "['mw-parser-output']\n",
      "['hatnote', 'navigation-not-searchable']\n"
     ]
    }
   ],
   "source": [
    "divisions = soup.find_all('div') # getting a resultset\n",
    "\n",
    "i = 0\n",
    "for div in divisions:\n",
    "    if div.get('class'): # if it exists\n",
    "        print(div.get('class')) # which parameter of that tag you need to retrieve\n",
    "        i += 1\n",
    "        if i ==10:\n",
    "            break"
   ]
  },
  {
   "cell_type": "markdown",
   "metadata": {},
   "source": [
    "### Accessing APIs using JSON\n",
    "\n",
    "JSON is java script objet notation. It is a file format that is used to access APIs. JSONs are human readable.\n",
    "JSON consists of name value pairs, very similar to python dictionaries and java objects. First let's learn how to access JSON file format."
   ]
  },
  {
   "cell_type": "code",
   "execution_count": 69,
   "metadata": {},
   "outputs": [
    {
     "name": "stdout",
     "output_type": "stream",
     "text": [
      "what is the data type of json files?:\t <class 'dict'>\n",
      "\n",
      "key is:\t glossary\n",
      "value is:\t {'title': 'example glossary', 'GlossDiv': {'title': 'S', 'GlossList': {'GlossEntry': {'ID': 'SGML', 'SortAs': 'SGML', 'GlossTerm': 'Standard Generalized Markup Language', 'Acronym': 'SGML', 'Abbrev': 'ISO 8879:1986', 'GlossDef': {'para': 'A meta-markup language, used to create markup languages such as DocBook.', 'GlossSeeAlso': ['GML', 'XML']}, 'GlossSee': 'markup'}}}}\n"
     ]
    }
   ],
   "source": [
    "import json\n",
    "\n",
    "with open('imported data/example.json') as j:\n",
    "    json_data = json.load(j)\n",
    "\n",
    "print(\"what is the data type of json files?:\\t\", type(json_data))\n",
    "\n",
    "for k, v in json_data.items():\n",
    "    print(\"\\nkey is:\\t\",k)\n",
    "    print(\"value is:\\t\",v)"
   ]
  },
  {
   "cell_type": "markdown",
   "metadata": {},
   "source": [
    "Most of data you can get from APIs are packaged as JSONs. Why APIs are impotant?\n",
    "\n",
    "API set of protocol and routines to interact with software applications. Bunch of code to communicate softwares.\n",
    "How to connect to an API?\n",
    "\n",
    "- start very similar to getting html from http (using request package)\n",
    "- your url has a query at the end which is in the format of ``?t=ha`1``. It starts with a question mark and have ``=`` to perform query.\n",
    "- use ``.json()`` method on the response object to get the dictionary.\n",
    "\n",
    "Let's perform a query on OMDB using tag ``t`` to get the movie title and its information."
   ]
  },
  {
   "cell_type": "code",
   "execution_count": 81,
   "metadata": {},
   "outputs": [
    {
     "name": "stdout",
     "output_type": "stream",
     "text": [
      "Title :\t La La Land\n",
      "Year :\t 2016\n",
      "Rated :\t PG-13\n",
      "Released :\t 25 Dec 2016\n",
      "Runtime :\t 128 min\n",
      "Genre :\t Comedy, Drama, Music, Musical, Romance\n",
      "Director :\t Damien Chazelle\n",
      "Writer :\t Damien Chazelle\n",
      "Actors :\t Ryan Gosling, Emma Stone, Amiée Conn, Terry Walters\n",
      "Plot :\t While navigating their careers in Los Angeles, a pianist and an actress fall in love while attempting to reconcile their aspirations for the future.\n",
      "Language :\t English\n",
      "Country :\t USA, Hong Kong\n",
      "Awards :\t Won 6 Oscars. Another 215 wins & 254 nominations.\n",
      "Poster :\t https://m.media-amazon.com/images/M/MV5BMzUzNDM2NzM2MV5BMl5BanBnXkFtZTgwNTM3NTg4OTE@._V1_SX300.jpg\n",
      "Ratings :\t [{'Source': 'Internet Movie Database', 'Value': '8.0/10'}, {'Source': 'Rotten Tomatoes', 'Value': '91%'}, {'Source': 'Metacritic', 'Value': '93/100'}]\n",
      "Metascore :\t 93\n",
      "imdbRating :\t 8.0\n",
      "imdbVotes :\t 424,793\n",
      "imdbID :\t tt3783958\n",
      "Type :\t movie\n",
      "DVD :\t 25 Apr 2017\n",
      "BoxOffice :\t $151,058,124\n",
      "Production :\t Liongate Films\n",
      "Website :\t http://www.lalaland.movie/\n",
      "Response :\t True\n"
     ]
    }
   ],
   "source": [
    "url = 'http://www.omdbapi.com/?apikey=72bc447a&t=La La Land'\n",
    "r = requests.get(url)\n",
    "data = r.json()\n",
    "\n",
    "for k, v in data.items():\n",
    "    print(k, \":\\t\", v)\n"
   ]
  },
  {
   "cell_type": "markdown",
   "metadata": {},
   "source": [
    "JSON is some type of structured data (not in a tabular format). But it comes in key value pair and pandas help with putting it into tabular format."
   ]
  },
  {
   "cell_type": "code",
   "execution_count": 86,
   "metadata": {},
   "outputs": [],
   "source": [
    "from pandas.io.json import json_normalize\n",
    "lala = pd.DataFrame.from_dict(json_normalize(data))"
   ]
  },
  {
   "cell_type": "code",
   "execution_count": 92,
   "metadata": {},
   "outputs": [],
   "source": [
    "# let's do the same for another movie\n",
    "url = 'http://www.omdbapi.com/?apikey=72bc447a&t=Inception'\n",
    "r = requests.get(url)\n",
    "data = r.json()\n",
    "inception = pd.DataFrame.from_dict(json_normalize(data))\n",
    "df = pd.concat((lala, inception)).set_index('Title')"
   ]
  },
  {
   "cell_type": "code",
   "execution_count": 93,
   "metadata": {},
   "outputs": [
    {
     "data": {
      "text/html": [
       "<div>\n",
       "<style scoped>\n",
       "    .dataframe tbody tr th:only-of-type {\n",
       "        vertical-align: middle;\n",
       "    }\n",
       "\n",
       "    .dataframe tbody tr th {\n",
       "        vertical-align: top;\n",
       "    }\n",
       "\n",
       "    .dataframe thead th {\n",
       "        text-align: right;\n",
       "    }\n",
       "</style>\n",
       "<table border=\"1\" class=\"dataframe\">\n",
       "  <thead>\n",
       "    <tr style=\"text-align: right;\">\n",
       "      <th></th>\n",
       "      <th>Actors</th>\n",
       "      <th>Awards</th>\n",
       "      <th>BoxOffice</th>\n",
       "      <th>Country</th>\n",
       "      <th>DVD</th>\n",
       "      <th>Director</th>\n",
       "      <th>Genre</th>\n",
       "      <th>Language</th>\n",
       "      <th>Metascore</th>\n",
       "      <th>Plot</th>\n",
       "      <th>...</th>\n",
       "      <th>Released</th>\n",
       "      <th>Response</th>\n",
       "      <th>Runtime</th>\n",
       "      <th>Type</th>\n",
       "      <th>Website</th>\n",
       "      <th>Writer</th>\n",
       "      <th>Year</th>\n",
       "      <th>imdbID</th>\n",
       "      <th>imdbRating</th>\n",
       "      <th>imdbVotes</th>\n",
       "    </tr>\n",
       "    <tr>\n",
       "      <th>Title</th>\n",
       "      <th></th>\n",
       "      <th></th>\n",
       "      <th></th>\n",
       "      <th></th>\n",
       "      <th></th>\n",
       "      <th></th>\n",
       "      <th></th>\n",
       "      <th></th>\n",
       "      <th></th>\n",
       "      <th></th>\n",
       "      <th></th>\n",
       "      <th></th>\n",
       "      <th></th>\n",
       "      <th></th>\n",
       "      <th></th>\n",
       "      <th></th>\n",
       "      <th></th>\n",
       "      <th></th>\n",
       "      <th></th>\n",
       "      <th></th>\n",
       "      <th></th>\n",
       "    </tr>\n",
       "  </thead>\n",
       "  <tbody>\n",
       "    <tr>\n",
       "      <th>La La Land</th>\n",
       "      <td>Ryan Gosling, Emma Stone, Amiée Conn, Terry Wa...</td>\n",
       "      <td>Won 6 Oscars. Another 215 wins &amp; 254 nominations.</td>\n",
       "      <td>$151,058,124</td>\n",
       "      <td>USA, Hong Kong</td>\n",
       "      <td>25 Apr 2017</td>\n",
       "      <td>Damien Chazelle</td>\n",
       "      <td>Comedy, Drama, Music, Musical, Romance</td>\n",
       "      <td>English</td>\n",
       "      <td>93</td>\n",
       "      <td>While navigating their careers in Los Angeles,...</td>\n",
       "      <td>...</td>\n",
       "      <td>25 Dec 2016</td>\n",
       "      <td>True</td>\n",
       "      <td>128 min</td>\n",
       "      <td>movie</td>\n",
       "      <td>http://www.lalaland.movie/</td>\n",
       "      <td>Damien Chazelle</td>\n",
       "      <td>2016</td>\n",
       "      <td>tt3783958</td>\n",
       "      <td>8.0</td>\n",
       "      <td>424,793</td>\n",
       "    </tr>\n",
       "    <tr>\n",
       "      <th>Inception</th>\n",
       "      <td>Leonardo DiCaprio, Joseph Gordon-Levitt, Ellen...</td>\n",
       "      <td>Won 4 Oscars. Another 152 wins &amp; 204 nominations.</td>\n",
       "      <td>$292,568,851</td>\n",
       "      <td>USA, UK</td>\n",
       "      <td>07 Dec 2010</td>\n",
       "      <td>Christopher Nolan</td>\n",
       "      <td>Action, Adventure, Sci-Fi, Thriller</td>\n",
       "      <td>English, Japanese, French</td>\n",
       "      <td>74</td>\n",
       "      <td>A thief who steals corporate secrets through t...</td>\n",
       "      <td>...</td>\n",
       "      <td>16 Jul 2010</td>\n",
       "      <td>True</td>\n",
       "      <td>148 min</td>\n",
       "      <td>movie</td>\n",
       "      <td>http://inceptionmovie.warnerbros.com/</td>\n",
       "      <td>Christopher Nolan</td>\n",
       "      <td>2010</td>\n",
       "      <td>tt1375666</td>\n",
       "      <td>8.8</td>\n",
       "      <td>1,815,114</td>\n",
       "    </tr>\n",
       "  </tbody>\n",
       "</table>\n",
       "<p>2 rows × 24 columns</p>\n",
       "</div>"
      ],
      "text/plain": [
       "                                                       Actors  \\\n",
       "Title                                                           \n",
       "La La Land  Ryan Gosling, Emma Stone, Amiée Conn, Terry Wa...   \n",
       "Inception   Leonardo DiCaprio, Joseph Gordon-Levitt, Ellen...   \n",
       "\n",
       "                                                       Awards     BoxOffice  \\\n",
       "Title                                                                         \n",
       "La La Land  Won 6 Oscars. Another 215 wins & 254 nominations.  $151,058,124   \n",
       "Inception   Won 4 Oscars. Another 152 wins & 204 nominations.  $292,568,851   \n",
       "\n",
       "                   Country          DVD           Director  \\\n",
       "Title                                                        \n",
       "La La Land  USA, Hong Kong  25 Apr 2017    Damien Chazelle   \n",
       "Inception          USA, UK  07 Dec 2010  Christopher Nolan   \n",
       "\n",
       "                                             Genre                   Language  \\\n",
       "Title                                                                           \n",
       "La La Land  Comedy, Drama, Music, Musical, Romance                    English   \n",
       "Inception      Action, Adventure, Sci-Fi, Thriller  English, Japanese, French   \n",
       "\n",
       "           Metascore                                               Plot  \\\n",
       "Title                                                                     \n",
       "La La Land        93  While navigating their careers in Los Angeles,...   \n",
       "Inception         74  A thief who steals corporate secrets through t...   \n",
       "\n",
       "              ...         Released Response  Runtime   Type  \\\n",
       "Title         ...                                             \n",
       "La La Land    ...      25 Dec 2016     True  128 min  movie   \n",
       "Inception     ...      16 Jul 2010     True  148 min  movie   \n",
       "\n",
       "                                          Website             Writer  Year  \\\n",
       "Title                                                                        \n",
       "La La Land             http://www.lalaland.movie/    Damien Chazelle  2016   \n",
       "Inception   http://inceptionmovie.warnerbros.com/  Christopher Nolan  2010   \n",
       "\n",
       "               imdbID imdbRating  imdbVotes  \n",
       "Title                                        \n",
       "La La Land  tt3783958        8.0    424,793  \n",
       "Inception   tt1375666        8.8  1,815,114  \n",
       "\n",
       "[2 rows x 24 columns]"
      ]
     },
     "execution_count": 93,
     "metadata": {},
     "output_type": "execute_result"
    }
   ],
   "source": [
    "df"
   ]
  },
  {
   "cell_type": "markdown",
   "metadata": {},
   "source": [
    "### Authenticated API access"
   ]
  }
 ],
 "metadata": {
  "celltoolbar": "Hide code",
  "kernelspec": {
   "display_name": "Python 3",
   "language": "python",
   "name": "python3"
  },
  "language_info": {
   "codemirror_mode": {
    "name": "ipython",
    "version": 3
   },
   "file_extension": ".py",
   "mimetype": "text/x-python",
   "name": "python",
   "nbconvert_exporter": "python",
   "pygments_lexer": "ipython3",
   "version": "3.6.4"
  }
 },
 "nbformat": 4,
 "nbformat_minor": 2
}
