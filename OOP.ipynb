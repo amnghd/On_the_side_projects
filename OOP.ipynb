{
 "cells": [
  {
   "cell_type": "markdown",
   "metadata": {},
   "source": [
    "#### Classes"
   ]
  },
  {
   "cell_type": "code",
   "execution_count": 29,
   "metadata": {},
   "outputs": [
    {
     "name": "stdout",
     "output_type": "stream",
     "text": [
      "Overwriting room.py\n"
     ]
    }
   ],
   "source": [
    "%%file room.py\n",
    "\n",
    "class Room():\n",
    "    \n",
    "    def __init__(self, room_name):\n",
    "        self.name = room_name\n",
    "        self.descripition = None\n",
    "        self.linked_rooms = {}\n",
    "        self.character = None\n",
    "        \n",
    "    def set_description(self, room_description):\n",
    "        self.description = room_description\n",
    "    \n",
    "    def get_description(self):\n",
    "        return self.description\n",
    "    \n",
    "    def set_name(self, room_name):\n",
    "        self.name = room_name\n",
    "        \n",
    "    def get_name(self):\n",
    "        return self.name\n",
    "    \n",
    "    def link_room(self, room_to_link, direction):\n",
    "        self.linked_rooms[direction] = room_to_link\n",
    "        #print(self.name + \" linked rooms:\" + repr(self.linked_rooms))\n",
    "        \n",
    "    def get_details(self):\n",
    "        for direction, room in self.linked_rooms.items():\n",
    "            print('The ' + room.get_name() + \" is on \" + direction + \".\")\n",
    "        \n",
    "    def move(self, direction):\n",
    "        if direction in self.linked_rooms:\n",
    "            return self.linked_rooms[direction]\n",
    "        else:\n",
    "            print('You dont have a room that way!')\n",
    "            return self\n",
    "    def set_character(self, new_character):\n",
    "        self.character = new_character\n",
    "        \n",
    "    def get_character(self):\n",
    "        return self.character"
   ]
  },
  {
   "cell_type": "code",
   "execution_count": 30,
   "metadata": {},
   "outputs": [],
   "source": [
    "from room import Room"
   ]
  },
  {
   "cell_type": "code",
   "execution_count": 31,
   "metadata": {},
   "outputs": [],
   "source": [
    "kitchen = Room('kitchen')"
   ]
  },
  {
   "cell_type": "code",
   "execution_count": 32,
   "metadata": {},
   "outputs": [],
   "source": [
    "kitchen.set_description(\"A nice room full of joy.\")"
   ]
  },
  {
   "cell_type": "code",
   "execution_count": 33,
   "metadata": {},
   "outputs": [
    {
     "data": {
      "text/plain": [
       "'A nice room full of joy.'"
      ]
     },
     "execution_count": 33,
     "metadata": {},
     "output_type": "execute_result"
    }
   ],
   "source": [
    "kitchen.get_description()"
   ]
  },
  {
   "cell_type": "code",
   "execution_count": 34,
   "metadata": {},
   "outputs": [],
   "source": [
    "dining_hall = Room('Dining Hall')\n",
    "dining_hall.set_description('A large room with ornate golden deecoreta.')"
   ]
  },
  {
   "cell_type": "code",
   "execution_count": 35,
   "metadata": {},
   "outputs": [],
   "source": [
    "kitchen.link_room(dining_hall, 'south')"
   ]
  },
  {
   "cell_type": "code",
   "execution_count": 36,
   "metadata": {},
   "outputs": [],
   "source": [
    "ballroom = Room('ballroom')\n",
    "ballroom.set_description('A place used to help guests.')\n",
    "dining_hall.link_room(ballroom, 'west')"
   ]
  },
  {
   "cell_type": "code",
   "execution_count": 37,
   "metadata": {},
   "outputs": [],
   "source": [
    "ballroom.link_room(dining_hall,'east')"
   ]
  },
  {
   "cell_type": "code",
   "execution_count": 38,
   "metadata": {},
   "outputs": [],
   "source": [
    "dining_hall.link_room(kitchen, 'north')"
   ]
  },
  {
   "cell_type": "code",
   "execution_count": 39,
   "metadata": {},
   "outputs": [
    {
     "name": "stdout",
     "output_type": "stream",
     "text": [
      "The ballroom is on west.\n",
      "The kitchen is on north.\n"
     ]
    }
   ],
   "source": [
    "dining_hall.get_details()"
   ]
  },
  {
   "cell_type": "code",
   "execution_count": 40,
   "metadata": {},
   "outputs": [
    {
     "name": "stdout",
     "output_type": "stream",
     "text": [
      "Overwriting item.py\n"
     ]
    }
   ],
   "source": [
    "%%file item.py\n",
    "\n",
    "class Item():\n",
    "    def __init__(self, item_name):\n",
    "        self.item_name = item_name\n",
    "        self.description = None\n",
    "    \n",
    "    def set_description(self, item_description):\n",
    "        self.item_description = item_description\n",
    "        \n",
    "    def get_description(self):\n",
    "        return self.item_description\n",
    "    \n",
    "    def set_name(self, item_name):\n",
    "        self.item_name = item_name\n",
    "        \n",
    "    def get_name(self):\n",
    "        return self.item_name\n",
    "        \n",
    "    "
   ]
  },
  {
   "cell_type": "code",
   "execution_count": 41,
   "metadata": {},
   "outputs": [],
   "source": [
    "from item import Item"
   ]
  },
  {
   "cell_type": "code",
   "execution_count": 42,
   "metadata": {},
   "outputs": [],
   "source": [
    "sword = Item('sword')"
   ]
  },
  {
   "cell_type": "code",
   "execution_count": 43,
   "metadata": {},
   "outputs": [],
   "source": [
    "sword.set_description('An item used by warriors in wars!')"
   ]
  },
  {
   "cell_type": "code",
   "execution_count": 44,
   "metadata": {},
   "outputs": [
    {
     "data": {
      "text/plain": [
       "'An item used by warriors in wars!'"
      ]
     },
     "execution_count": 44,
     "metadata": {},
     "output_type": "execute_result"
    }
   ],
   "source": [
    "sword.get_description()"
   ]
  },
  {
   "cell_type": "code",
   "execution_count": 45,
   "metadata": {},
   "outputs": [
    {
     "data": {
      "text/plain": [
       "'sword'"
      ]
     },
     "execution_count": 45,
     "metadata": {},
     "output_type": "execute_result"
    }
   ],
   "source": [
    "sword.get_name()"
   ]
  },
  {
   "cell_type": "markdown",
   "metadata": {},
   "source": [
    "### Inheritence"
   ]
  },
  {
   "cell_type": "code",
   "execution_count": 57,
   "metadata": {},
   "outputs": [
    {
     "name": "stdout",
     "output_type": "stream",
     "text": [
      "Overwriting character.py\n"
     ]
    }
   ],
   "source": [
    "%%file character.py\n",
    "class Character():\n",
    "\n",
    "    # Create a character\n",
    "    def __init__(self, char_name, char_description):\n",
    "        self.name = char_name\n",
    "        self.description = char_description\n",
    "        self.conversation = None\n",
    "\n",
    "    # Describe this character\n",
    "    def describe(self):\n",
    "        print( self.name + \" is here!\" )\n",
    "        print( self.description )\n",
    "\n",
    "    # Set what this character will say when talked to\n",
    "    def set_conversation(self, conversation):\n",
    "        self.conversation = conversation\n",
    "\n",
    "    # Talk to this character\n",
    "    def talk(self):\n",
    "        if self.conversation is not None:\n",
    "            print(\"[\" + self.name + \" says]: \" + self.conversation)\n",
    "        else:\n",
    "            print(self.name + \" doesn't want to talk to you\")\n",
    "\n",
    "    # Fight with this character\n",
    "    def fight(self, combat_item):\n",
    "        print(self.name + \" doesn't want to fight with you\")\n",
    "        return True\n",
    "\n",
    "    \n",
    "class Enemy(Character): # enemy is a subclass, character is a superclass\n",
    "    \n",
    "    def __init__(self, char_name, char_description):\n",
    "        super().__init__(char_name, char_description)  # super class constructor used to \n",
    "        self.weakness = None\n",
    "        self.sleep = False\n",
    "    # Fight with this enemy\n",
    "    def fight(self, combat_item):\n",
    "        if combat_item == self.weakness:\n",
    "            print('Your fend ' + self.name + \" off with the \" + combat_item + \"!!\")\n",
    "            return True\n",
    "        elif self.sleep:\n",
    "            print(\"Your fend \" + self.name + \" is sleep !!\")\n",
    "            return True\n",
    "        else:\n",
    "            print(self.name + \" crashes you, puny adventurer!!\")\n",
    "            return False\n",
    "    def set_sleep(self):\n",
    "        print('Dave went to sleep.')\n",
    "        self.sleep = True\n",
    "\n",
    "    def set_weakness(self, item_weakness):\n",
    "        self.weakness = item_weakness\n",
    "    \n",
    "    def get_weakness(self):\n",
    "        return self.weakness\n",
    "    \n",
    "    \n",
    "    \n",
    "class Friend(Character): # enemy is a subclass, character is a superclass\n",
    "    \n",
    "    def __init__(self, char_name, char_description):\n",
    "        super().__init__(char_name, char_description)  # super class constructor used to \n",
    "        self.feeling = None\n",
    "\n",
    "    # Fight with this enemy\n",
    "    def hug(self, combat_item):\n",
    "        if combat_item == self.weakness:\n",
    "            print('Your friend ' + self.name + \" hugs you bcak !\")\n",
    "    \n",
    "    def set_feeling(self, feeling):\n",
    "        self.feeling = feeling\n",
    "    \n",
    "    def get_feeling(self):\n",
    "        return self.feeling"
   ]
  },
  {
   "cell_type": "code",
   "execution_count": 47,
   "metadata": {},
   "outputs": [],
   "source": [
    "from character import Enemy, Friend"
   ]
  },
  {
   "cell_type": "code",
   "execution_count": 48,
   "metadata": {},
   "outputs": [],
   "source": [
    "dave = Enemy('Dave', 'A smelly zombie!!')"
   ]
  },
  {
   "cell_type": "code",
   "execution_count": 49,
   "metadata": {},
   "outputs": [
    {
     "name": "stdout",
     "output_type": "stream",
     "text": [
      "what will you fight with?\n",
      "زاث\n",
      "Dave crashes you, puny adventurer!!\n"
     ]
    },
    {
     "data": {
      "text/plain": [
       "False"
      ]
     },
     "execution_count": 49,
     "metadata": {},
     "output_type": "execute_result"
    }
   ],
   "source": [
    "dave.set_weakness('cheese')\n",
    "print(\"what will you fight with?\")\n",
    "fight_with = input()\n",
    "dave.fight(fight_with)"
   ]
  },
  {
   "cell_type": "code",
   "execution_count": 50,
   "metadata": {},
   "outputs": [
    {
     "name": "stdout",
     "output_type": "stream",
     "text": [
      "Dave is here!\n",
      "A smelly zombie!!\n"
     ]
    }
   ],
   "source": [
    "dave.describe()"
   ]
  },
  {
   "cell_type": "code",
   "execution_count": 51,
   "metadata": {},
   "outputs": [],
   "source": [
    "dave.set_conversation('I am a zombie, but I know there is a human beneath!!!')"
   ]
  },
  {
   "cell_type": "code",
   "execution_count": 52,
   "metadata": {},
   "outputs": [
    {
     "name": "stdout",
     "output_type": "stream",
     "text": [
      "[Dave says]: I am a zombie, but I know there is a human beneath!!!\n"
     ]
    }
   ],
   "source": [
    "dave.talk()"
   ]
  },
  {
   "cell_type": "code",
   "execution_count": 55,
   "metadata": {},
   "outputs": [],
   "source": [
    "catrina = Friend('Catrina', 'A friendly skleton!!')\n",
    "catrina.set_conversation('Well hello there!!!')"
   ]
  },
  {
   "cell_type": "code",
   "execution_count": 58,
   "metadata": {},
   "outputs": [],
   "source": [
    "dining_hall.set_character(dave)\n",
    "ballroom.set_character(catrina)"
   ]
  },
  {
   "cell_type": "code",
   "execution_count": 60,
   "metadata": {},
   "outputs": [
    {
     "name": "stdout",
     "output_type": "stream",
     "text": [
      "\n",
      "\n",
      "The Dining Hall is on south.\n",
      "> south\n",
      "\n",
      "\n",
      "The ballroom is on west.\n",
      "The kitchen is on north.\n",
      "Dave is here!\n",
      "A smelly zombie!!\n",
      "> west\n",
      "\n",
      "\n",
      "The Dining Hall is on east.\n",
      "Catrina is here!\n",
      "A friendly skleton!!\n",
      "> fight\n",
      "Everything is good, no fight for today!!!\n",
      "Catrina doesn't want to fight with you\n",
      "\n",
      "\n",
      "The Dining Hall is on east.\n",
      "Catrina is here!\n",
      "A friendly skleton!!\n",
      "> finish\n"
     ]
    }
   ],
   "source": [
    "# this is the game running\n",
    "current_room = kitchen\n",
    "while True:\n",
    "    print(\"\\n\")\n",
    "    current_room.get_details()\n",
    "    inhabitant = current_room.get_character()\n",
    "    if inhabitant:\n",
    "        inhabitant.describe()\n",
    "    command = input(\"> \")\n",
    "    if command.lower() in ['north', 'south', 'east', 'west']:\n",
    "        # move in the right direction\n",
    "        current_room = current_room.move(command)\n",
    "    elif command.lower() == 'talk' and inhabitant:\n",
    "        # talk with the enemy\n",
    "        inhabitant.talk()\n",
    "    \n",
    "    elif command.lower() == 'sleep' and inhabitant:\n",
    "        inhabitant.set_sleep()\n",
    "    elif command.lower() == 'fight':\n",
    "        if not inhabitant or isinstance(inhabitant, Friend):\n",
    "            print('Everything is good, no fight for today!!!')\n",
    "        else:\n",
    "            item = input(\"with what? > \")\n",
    "        if not inhabitant.fight(item):\n",
    "            print('GAME OVER!!!!')\n",
    "            break\n",
    "    \n",
    "    if command.lower() == 'hug':\n",
    "        if not inhabitant:\n",
    "            print('There is no body here to hug.')\n",
    "        else:\n",
    "            if:\n",
    "                isinstance(inhabitant, Enemy):\n",
    "                    print(\"I would not do that if I were you.\")\n",
    "                    print(inhabitant.ge)\n",
    "    if command == 'finish':\n",
    "        break"
   ]
  },
  {
   "cell_type": "markdown",
   "metadata": {},
   "source": [
    "#### class variables\n",
    "Variables that are shared between all of the instances."
   ]
  },
  {
   "cell_type": "code",
   "execution_count": 62,
   "metadata": {},
   "outputs": [
    {
     "name": "stdout",
     "output_type": "stream",
     "text": [
      "Writing flower.py\n"
     ]
    }
   ],
   "source": [
    "%%file flower.py\n",
    "\n",
    "class Flower():\n",
    "\n",
    "    # This is a class variable - it is shared between all objects of the class Flower\n",
    "    picked = 0 # this is not just an instance variable\n",
    "\n",
    "    def __init__(self):\n",
    "        self.color = \"red\"\n",
    "\n",
    "    def pick(self):\n",
    "        # This is how we refer to a class variable - classname.varname\n",
    "        Flower.picked += 1\n",
    "\n",
    "    def get_status(self):\n",
    "        print( str(Flower.picked) + \" flowers have been picked\")"
   ]
  },
  {
   "cell_type": "code",
   "execution_count": 64,
   "metadata": {},
   "outputs": [],
   "source": [
    "from flower import Flower"
   ]
  },
  {
   "cell_type": "code",
   "execution_count": 71,
   "metadata": {},
   "outputs": [
    {
     "name": "stdout",
     "output_type": "stream",
     "text": [
      "1 flowers have been picked\n"
     ]
    }
   ],
   "source": [
    "f = Flower()\n",
    "f.get_status()"
   ]
  },
  {
   "cell_type": "code",
   "execution_count": 72,
   "metadata": {},
   "outputs": [],
   "source": [
    "f.pick()"
   ]
  },
  {
   "cell_type": "code",
   "execution_count": 73,
   "metadata": {},
   "outputs": [
    {
     "data": {
      "text/plain": [
       "2"
      ]
     },
     "execution_count": 73,
     "metadata": {},
     "output_type": "execute_result"
    }
   ],
   "source": [
    "f.picked"
   ]
  },
  {
   "cell_type": "code",
   "execution_count": 74,
   "metadata": {},
   "outputs": [
    {
     "name": "stdout",
     "output_type": "stream",
     "text": [
      "2 flowers have been picked\n"
     ]
    }
   ],
   "source": [
    "f.get_status()"
   ]
  },
  {
   "cell_type": "code",
   "execution_count": null,
   "metadata": {},
   "outputs": [],
   "source": []
  }
 ],
 "metadata": {
  "kernelspec": {
   "display_name": "Python 3",
   "language": "python",
   "name": "python3"
  },
  "language_info": {
   "codemirror_mode": {
    "name": "ipython",
    "version": 3
   },
   "file_extension": ".py",
   "mimetype": "text/x-python",
   "name": "python",
   "nbconvert_exporter": "python",
   "pygments_lexer": "ipython3",
   "version": "3.6.4"
  }
 },
 "nbformat": 4,
 "nbformat_minor": 2
}
